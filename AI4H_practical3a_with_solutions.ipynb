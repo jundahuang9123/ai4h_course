{
  "nbformat": 4,
  "nbformat_minor": 0,
  "metadata": {
    "colab": {
      "name": "Scikit_learn_model_training.ipynb",
      "provenance": [],
      "collapsed_sections": []
    },
    "kernelspec": {
      "name": "python3",
      "display_name": "Python 3"
    },
    "language_info": {
      "name": "python"
    }
  },
  "cells": [
    {
      "cell_type": "markdown",
      "source": [
        "# Scikit-learn model training and evaluation example\n",
        "\n",
        "This notebook contains the code for two models predicting a binary outcome. This notebook is just meant as a first introduction towards the steps you go through when training models using scikit-learn. "
      ],
      "metadata": {
        "id": "-vXVsjNO_NZW"
      }
    },
    {
      "cell_type": "markdown",
      "source": [
        "We start with importing the relevant modules. Next to importing numpy and pandas, which you have worked with by now, we need different funcionalities of scikit-learn (sklearn), related to preprocessing the data, the models we use, model selection and metrics used to evaluate model performance."
      ],
      "metadata": {
        "id": "2yHZPGOMxeri"
      }
    },
    {
      "cell_type": "code",
      "metadata": {
        "id": "2qB--SMu81rW"
      },
      "source": [
        "#import relevant modules\n",
        "import pandas as pd\n",
        "import numpy as np\n",
        "\n",
        "from sklearn.preprocessing import StandardScaler\n",
        "\n",
        "from sklearn.linear_model import LogisticRegression\n",
        "\n",
        "from sklearn.model_selection import StratifiedShuffleSplit\n",
        "from sklearn.model_selection import RepeatedKFold\n",
        "from sklearn.model_selection import GridSearchCV\n",
        "\n",
        "from sklearn.metrics import confusion_matrix\n",
        "from sklearn.metrics import ConfusionMatrixDisplay\n",
        "from sklearn.metrics import accuracy_score"
      ],
      "execution_count": 63,
      "outputs": []
    },
    {
      "cell_type": "markdown",
      "source": [
        "### Importing and describing the data\n",
        "\n",
        "We work with a toy dataset, containing sonar data which can be used to classify objects as being either a Mine or a Rock. More information on the dataset can be found at: https://datahub.io/machine-learning/sonar."
      ],
      "metadata": {
        "id": "Z-XUSYKcynSN"
      }
    },
    {
      "cell_type": "code",
      "metadata": {
        "id": "EtEXZweE9NPD"
      },
      "source": [
        "df = pd.read_csv('https://datahub.io/machine-learning/sonar/r/sonar.csv')"
      ],
      "execution_count": 64,
      "outputs": []
    },
    {
      "cell_type": "code",
      "source": [
        "# describing the dataframe - 1\n",
        "df.head()"
      ],
      "metadata": {
        "colab": {
          "base_uri": "https://localhost:8080/",
          "height": 270
        },
        "id": "Dk9vp_Ezzd0u",
        "outputId": "d40c3b51-829a-45da-c012-5a66a27c83fe"
      },
      "execution_count": 65,
      "outputs": [
        {
          "output_type": "execute_result",
          "data": {
            "text/html": [
              "\n",
              "  <div id=\"df-d8f517c4-b0f0-49be-833e-a121d80df38e\">\n",
              "    <div class=\"colab-df-container\">\n",
              "      <div>\n",
              "<style scoped>\n",
              "    .dataframe tbody tr th:only-of-type {\n",
              "        vertical-align: middle;\n",
              "    }\n",
              "\n",
              "    .dataframe tbody tr th {\n",
              "        vertical-align: top;\n",
              "    }\n",
              "\n",
              "    .dataframe thead th {\n",
              "        text-align: right;\n",
              "    }\n",
              "</style>\n",
              "<table border=\"1\" class=\"dataframe\">\n",
              "  <thead>\n",
              "    <tr style=\"text-align: right;\">\n",
              "      <th></th>\n",
              "      <th>attribute_1</th>\n",
              "      <th>attribute_2</th>\n",
              "      <th>attribute_3</th>\n",
              "      <th>attribute_4</th>\n",
              "      <th>attribute_5</th>\n",
              "      <th>attribute_6</th>\n",
              "      <th>attribute_7</th>\n",
              "      <th>attribute_8</th>\n",
              "      <th>attribute_9</th>\n",
              "      <th>attribute_10</th>\n",
              "      <th>attribute_11</th>\n",
              "      <th>attribute_12</th>\n",
              "      <th>attribute_13</th>\n",
              "      <th>attribute_14</th>\n",
              "      <th>attribute_15</th>\n",
              "      <th>attribute_16</th>\n",
              "      <th>attribute_17</th>\n",
              "      <th>attribute_18</th>\n",
              "      <th>attribute_19</th>\n",
              "      <th>attribute_20</th>\n",
              "      <th>attribute_21</th>\n",
              "      <th>attribute_22</th>\n",
              "      <th>attribute_23</th>\n",
              "      <th>attribute_24</th>\n",
              "      <th>attribute_25</th>\n",
              "      <th>attribute_26</th>\n",
              "      <th>attribute_27</th>\n",
              "      <th>attribute_28</th>\n",
              "      <th>attribute_29</th>\n",
              "      <th>attribute_30</th>\n",
              "      <th>attribute_31</th>\n",
              "      <th>attribute_32</th>\n",
              "      <th>attribute_33</th>\n",
              "      <th>attribute_34</th>\n",
              "      <th>attribute_35</th>\n",
              "      <th>attribute_36</th>\n",
              "      <th>attribute_37</th>\n",
              "      <th>attribute_38</th>\n",
              "      <th>attribute_39</th>\n",
              "      <th>attribute_40</th>\n",
              "      <th>attribute_41</th>\n",
              "      <th>attribute_42</th>\n",
              "      <th>attribute_43</th>\n",
              "      <th>attribute_44</th>\n",
              "      <th>attribute_45</th>\n",
              "      <th>attribute_46</th>\n",
              "      <th>attribute_47</th>\n",
              "      <th>attribute_48</th>\n",
              "      <th>attribute_49</th>\n",
              "      <th>attribute_50</th>\n",
              "      <th>attribute_51</th>\n",
              "      <th>attribute_52</th>\n",
              "      <th>attribute_53</th>\n",
              "      <th>attribute_54</th>\n",
              "      <th>attribute_55</th>\n",
              "      <th>attribute_56</th>\n",
              "      <th>attribute_57</th>\n",
              "      <th>attribute_58</th>\n",
              "      <th>attribute_59</th>\n",
              "      <th>attribute_60</th>\n",
              "      <th>Class</th>\n",
              "    </tr>\n",
              "  </thead>\n",
              "  <tbody>\n",
              "    <tr>\n",
              "      <th>0</th>\n",
              "      <td>0.0200</td>\n",
              "      <td>0.0371</td>\n",
              "      <td>0.0428</td>\n",
              "      <td>0.0207</td>\n",
              "      <td>0.0954</td>\n",
              "      <td>0.0986</td>\n",
              "      <td>0.1539</td>\n",
              "      <td>0.1601</td>\n",
              "      <td>0.3109</td>\n",
              "      <td>0.2111</td>\n",
              "      <td>0.1609</td>\n",
              "      <td>0.1582</td>\n",
              "      <td>0.2238</td>\n",
              "      <td>0.0645</td>\n",
              "      <td>0.0660</td>\n",
              "      <td>0.2273</td>\n",
              "      <td>0.3100</td>\n",
              "      <td>0.2999</td>\n",
              "      <td>0.5078</td>\n",
              "      <td>0.4797</td>\n",
              "      <td>0.5783</td>\n",
              "      <td>0.5071</td>\n",
              "      <td>0.4328</td>\n",
              "      <td>0.5550</td>\n",
              "      <td>0.6711</td>\n",
              "      <td>0.6415</td>\n",
              "      <td>0.7104</td>\n",
              "      <td>0.8080</td>\n",
              "      <td>0.6791</td>\n",
              "      <td>0.3857</td>\n",
              "      <td>0.1307</td>\n",
              "      <td>0.2604</td>\n",
              "      <td>0.5121</td>\n",
              "      <td>0.7547</td>\n",
              "      <td>0.8537</td>\n",
              "      <td>0.8507</td>\n",
              "      <td>0.6692</td>\n",
              "      <td>0.6097</td>\n",
              "      <td>0.4943</td>\n",
              "      <td>0.2744</td>\n",
              "      <td>0.0510</td>\n",
              "      <td>0.2834</td>\n",
              "      <td>0.2825</td>\n",
              "      <td>0.4256</td>\n",
              "      <td>0.2641</td>\n",
              "      <td>0.1386</td>\n",
              "      <td>0.1051</td>\n",
              "      <td>0.1343</td>\n",
              "      <td>0.0383</td>\n",
              "      <td>0.0324</td>\n",
              "      <td>0.0232</td>\n",
              "      <td>0.0027</td>\n",
              "      <td>0.0065</td>\n",
              "      <td>0.0159</td>\n",
              "      <td>0.0072</td>\n",
              "      <td>0.0167</td>\n",
              "      <td>0.0180</td>\n",
              "      <td>0.0084</td>\n",
              "      <td>0.0090</td>\n",
              "      <td>0.0032</td>\n",
              "      <td>Rock</td>\n",
              "    </tr>\n",
              "    <tr>\n",
              "      <th>1</th>\n",
              "      <td>0.0453</td>\n",
              "      <td>0.0523</td>\n",
              "      <td>0.0843</td>\n",
              "      <td>0.0689</td>\n",
              "      <td>0.1183</td>\n",
              "      <td>0.2583</td>\n",
              "      <td>0.2156</td>\n",
              "      <td>0.3481</td>\n",
              "      <td>0.3337</td>\n",
              "      <td>0.2872</td>\n",
              "      <td>0.4918</td>\n",
              "      <td>0.6552</td>\n",
              "      <td>0.6919</td>\n",
              "      <td>0.7797</td>\n",
              "      <td>0.7464</td>\n",
              "      <td>0.9444</td>\n",
              "      <td>1.0000</td>\n",
              "      <td>0.8874</td>\n",
              "      <td>0.8024</td>\n",
              "      <td>0.7818</td>\n",
              "      <td>0.5212</td>\n",
              "      <td>0.4052</td>\n",
              "      <td>0.3957</td>\n",
              "      <td>0.3914</td>\n",
              "      <td>0.3250</td>\n",
              "      <td>0.3200</td>\n",
              "      <td>0.3271</td>\n",
              "      <td>0.2767</td>\n",
              "      <td>0.4423</td>\n",
              "      <td>0.2028</td>\n",
              "      <td>0.3788</td>\n",
              "      <td>0.2947</td>\n",
              "      <td>0.1984</td>\n",
              "      <td>0.2341</td>\n",
              "      <td>0.1306</td>\n",
              "      <td>0.4182</td>\n",
              "      <td>0.3835</td>\n",
              "      <td>0.1057</td>\n",
              "      <td>0.1840</td>\n",
              "      <td>0.1970</td>\n",
              "      <td>0.1674</td>\n",
              "      <td>0.0583</td>\n",
              "      <td>0.1401</td>\n",
              "      <td>0.1628</td>\n",
              "      <td>0.0621</td>\n",
              "      <td>0.0203</td>\n",
              "      <td>0.0530</td>\n",
              "      <td>0.0742</td>\n",
              "      <td>0.0409</td>\n",
              "      <td>0.0061</td>\n",
              "      <td>0.0125</td>\n",
              "      <td>0.0084</td>\n",
              "      <td>0.0089</td>\n",
              "      <td>0.0048</td>\n",
              "      <td>0.0094</td>\n",
              "      <td>0.0191</td>\n",
              "      <td>0.0140</td>\n",
              "      <td>0.0049</td>\n",
              "      <td>0.0052</td>\n",
              "      <td>0.0044</td>\n",
              "      <td>Rock</td>\n",
              "    </tr>\n",
              "    <tr>\n",
              "      <th>2</th>\n",
              "      <td>0.0262</td>\n",
              "      <td>0.0582</td>\n",
              "      <td>0.1099</td>\n",
              "      <td>0.1083</td>\n",
              "      <td>0.0974</td>\n",
              "      <td>0.2280</td>\n",
              "      <td>0.2431</td>\n",
              "      <td>0.3771</td>\n",
              "      <td>0.5598</td>\n",
              "      <td>0.6194</td>\n",
              "      <td>0.6333</td>\n",
              "      <td>0.7060</td>\n",
              "      <td>0.5544</td>\n",
              "      <td>0.5320</td>\n",
              "      <td>0.6479</td>\n",
              "      <td>0.6931</td>\n",
              "      <td>0.6759</td>\n",
              "      <td>0.7551</td>\n",
              "      <td>0.8929</td>\n",
              "      <td>0.8619</td>\n",
              "      <td>0.7974</td>\n",
              "      <td>0.6737</td>\n",
              "      <td>0.4293</td>\n",
              "      <td>0.3648</td>\n",
              "      <td>0.5331</td>\n",
              "      <td>0.2413</td>\n",
              "      <td>0.5070</td>\n",
              "      <td>0.8533</td>\n",
              "      <td>0.6036</td>\n",
              "      <td>0.8514</td>\n",
              "      <td>0.8512</td>\n",
              "      <td>0.5045</td>\n",
              "      <td>0.1862</td>\n",
              "      <td>0.2709</td>\n",
              "      <td>0.4232</td>\n",
              "      <td>0.3043</td>\n",
              "      <td>0.6116</td>\n",
              "      <td>0.6756</td>\n",
              "      <td>0.5375</td>\n",
              "      <td>0.4719</td>\n",
              "      <td>0.4647</td>\n",
              "      <td>0.2587</td>\n",
              "      <td>0.2129</td>\n",
              "      <td>0.2222</td>\n",
              "      <td>0.2111</td>\n",
              "      <td>0.0176</td>\n",
              "      <td>0.1348</td>\n",
              "      <td>0.0744</td>\n",
              "      <td>0.0130</td>\n",
              "      <td>0.0106</td>\n",
              "      <td>0.0033</td>\n",
              "      <td>0.0232</td>\n",
              "      <td>0.0166</td>\n",
              "      <td>0.0095</td>\n",
              "      <td>0.0180</td>\n",
              "      <td>0.0244</td>\n",
              "      <td>0.0316</td>\n",
              "      <td>0.0164</td>\n",
              "      <td>0.0095</td>\n",
              "      <td>0.0078</td>\n",
              "      <td>Rock</td>\n",
              "    </tr>\n",
              "    <tr>\n",
              "      <th>3</th>\n",
              "      <td>0.0100</td>\n",
              "      <td>0.0171</td>\n",
              "      <td>0.0623</td>\n",
              "      <td>0.0205</td>\n",
              "      <td>0.0205</td>\n",
              "      <td>0.0368</td>\n",
              "      <td>0.1098</td>\n",
              "      <td>0.1276</td>\n",
              "      <td>0.0598</td>\n",
              "      <td>0.1264</td>\n",
              "      <td>0.0881</td>\n",
              "      <td>0.1992</td>\n",
              "      <td>0.0184</td>\n",
              "      <td>0.2261</td>\n",
              "      <td>0.1729</td>\n",
              "      <td>0.2131</td>\n",
              "      <td>0.0693</td>\n",
              "      <td>0.2281</td>\n",
              "      <td>0.4060</td>\n",
              "      <td>0.3973</td>\n",
              "      <td>0.2741</td>\n",
              "      <td>0.3690</td>\n",
              "      <td>0.5556</td>\n",
              "      <td>0.4846</td>\n",
              "      <td>0.3140</td>\n",
              "      <td>0.5334</td>\n",
              "      <td>0.5256</td>\n",
              "      <td>0.2520</td>\n",
              "      <td>0.2090</td>\n",
              "      <td>0.3559</td>\n",
              "      <td>0.6260</td>\n",
              "      <td>0.7340</td>\n",
              "      <td>0.6120</td>\n",
              "      <td>0.3497</td>\n",
              "      <td>0.3953</td>\n",
              "      <td>0.3012</td>\n",
              "      <td>0.5408</td>\n",
              "      <td>0.8814</td>\n",
              "      <td>0.9857</td>\n",
              "      <td>0.9167</td>\n",
              "      <td>0.6121</td>\n",
              "      <td>0.5006</td>\n",
              "      <td>0.3210</td>\n",
              "      <td>0.3202</td>\n",
              "      <td>0.4295</td>\n",
              "      <td>0.3654</td>\n",
              "      <td>0.2655</td>\n",
              "      <td>0.1576</td>\n",
              "      <td>0.0681</td>\n",
              "      <td>0.0294</td>\n",
              "      <td>0.0241</td>\n",
              "      <td>0.0121</td>\n",
              "      <td>0.0036</td>\n",
              "      <td>0.0150</td>\n",
              "      <td>0.0085</td>\n",
              "      <td>0.0073</td>\n",
              "      <td>0.0050</td>\n",
              "      <td>0.0044</td>\n",
              "      <td>0.0040</td>\n",
              "      <td>0.0117</td>\n",
              "      <td>Rock</td>\n",
              "    </tr>\n",
              "    <tr>\n",
              "      <th>4</th>\n",
              "      <td>0.0762</td>\n",
              "      <td>0.0666</td>\n",
              "      <td>0.0481</td>\n",
              "      <td>0.0394</td>\n",
              "      <td>0.0590</td>\n",
              "      <td>0.0649</td>\n",
              "      <td>0.1209</td>\n",
              "      <td>0.2467</td>\n",
              "      <td>0.3564</td>\n",
              "      <td>0.4459</td>\n",
              "      <td>0.4152</td>\n",
              "      <td>0.3952</td>\n",
              "      <td>0.4256</td>\n",
              "      <td>0.4135</td>\n",
              "      <td>0.4528</td>\n",
              "      <td>0.5326</td>\n",
              "      <td>0.7306</td>\n",
              "      <td>0.6193</td>\n",
              "      <td>0.2032</td>\n",
              "      <td>0.4636</td>\n",
              "      <td>0.4148</td>\n",
              "      <td>0.4292</td>\n",
              "      <td>0.5730</td>\n",
              "      <td>0.5399</td>\n",
              "      <td>0.3161</td>\n",
              "      <td>0.2285</td>\n",
              "      <td>0.6995</td>\n",
              "      <td>1.0000</td>\n",
              "      <td>0.7262</td>\n",
              "      <td>0.4724</td>\n",
              "      <td>0.5103</td>\n",
              "      <td>0.5459</td>\n",
              "      <td>0.2881</td>\n",
              "      <td>0.0981</td>\n",
              "      <td>0.1951</td>\n",
              "      <td>0.4181</td>\n",
              "      <td>0.4604</td>\n",
              "      <td>0.3217</td>\n",
              "      <td>0.2828</td>\n",
              "      <td>0.2430</td>\n",
              "      <td>0.1979</td>\n",
              "      <td>0.2444</td>\n",
              "      <td>0.1847</td>\n",
              "      <td>0.0841</td>\n",
              "      <td>0.0692</td>\n",
              "      <td>0.0528</td>\n",
              "      <td>0.0357</td>\n",
              "      <td>0.0085</td>\n",
              "      <td>0.0230</td>\n",
              "      <td>0.0046</td>\n",
              "      <td>0.0156</td>\n",
              "      <td>0.0031</td>\n",
              "      <td>0.0054</td>\n",
              "      <td>0.0105</td>\n",
              "      <td>0.0110</td>\n",
              "      <td>0.0015</td>\n",
              "      <td>0.0072</td>\n",
              "      <td>0.0048</td>\n",
              "      <td>0.0107</td>\n",
              "      <td>0.0094</td>\n",
              "      <td>Rock</td>\n",
              "    </tr>\n",
              "  </tbody>\n",
              "</table>\n",
              "</div>\n",
              "      <button class=\"colab-df-convert\" onclick=\"convertToInteractive('df-d8f517c4-b0f0-49be-833e-a121d80df38e')\"\n",
              "              title=\"Convert this dataframe to an interactive table.\"\n",
              "              style=\"display:none;\">\n",
              "        \n",
              "  <svg xmlns=\"http://www.w3.org/2000/svg\" height=\"24px\"viewBox=\"0 0 24 24\"\n",
              "       width=\"24px\">\n",
              "    <path d=\"M0 0h24v24H0V0z\" fill=\"none\"/>\n",
              "    <path d=\"M18.56 5.44l.94 2.06.94-2.06 2.06-.94-2.06-.94-.94-2.06-.94 2.06-2.06.94zm-11 1L8.5 8.5l.94-2.06 2.06-.94-2.06-.94L8.5 2.5l-.94 2.06-2.06.94zm10 10l.94 2.06.94-2.06 2.06-.94-2.06-.94-.94-2.06-.94 2.06-2.06.94z\"/><path d=\"M17.41 7.96l-1.37-1.37c-.4-.4-.92-.59-1.43-.59-.52 0-1.04.2-1.43.59L10.3 9.45l-7.72 7.72c-.78.78-.78 2.05 0 2.83L4 21.41c.39.39.9.59 1.41.59.51 0 1.02-.2 1.41-.59l7.78-7.78 2.81-2.81c.8-.78.8-2.07 0-2.86zM5.41 20L4 18.59l7.72-7.72 1.47 1.35L5.41 20z\"/>\n",
              "  </svg>\n",
              "      </button>\n",
              "      \n",
              "  <style>\n",
              "    .colab-df-container {\n",
              "      display:flex;\n",
              "      flex-wrap:wrap;\n",
              "      gap: 12px;\n",
              "    }\n",
              "\n",
              "    .colab-df-convert {\n",
              "      background-color: #E8F0FE;\n",
              "      border: none;\n",
              "      border-radius: 50%;\n",
              "      cursor: pointer;\n",
              "      display: none;\n",
              "      fill: #1967D2;\n",
              "      height: 32px;\n",
              "      padding: 0 0 0 0;\n",
              "      width: 32px;\n",
              "    }\n",
              "\n",
              "    .colab-df-convert:hover {\n",
              "      background-color: #E2EBFA;\n",
              "      box-shadow: 0px 1px 2px rgba(60, 64, 67, 0.3), 0px 1px 3px 1px rgba(60, 64, 67, 0.15);\n",
              "      fill: #174EA6;\n",
              "    }\n",
              "\n",
              "    [theme=dark] .colab-df-convert {\n",
              "      background-color: #3B4455;\n",
              "      fill: #D2E3FC;\n",
              "    }\n",
              "\n",
              "    [theme=dark] .colab-df-convert:hover {\n",
              "      background-color: #434B5C;\n",
              "      box-shadow: 0px 1px 3px 1px rgba(0, 0, 0, 0.15);\n",
              "      filter: drop-shadow(0px 1px 2px rgba(0, 0, 0, 0.3));\n",
              "      fill: #FFFFFF;\n",
              "    }\n",
              "  </style>\n",
              "\n",
              "      <script>\n",
              "        const buttonEl =\n",
              "          document.querySelector('#df-d8f517c4-b0f0-49be-833e-a121d80df38e button.colab-df-convert');\n",
              "        buttonEl.style.display =\n",
              "          google.colab.kernel.accessAllowed ? 'block' : 'none';\n",
              "\n",
              "        async function convertToInteractive(key) {\n",
              "          const element = document.querySelector('#df-d8f517c4-b0f0-49be-833e-a121d80df38e');\n",
              "          const dataTable =\n",
              "            await google.colab.kernel.invokeFunction('convertToInteractive',\n",
              "                                                     [key], {});\n",
              "          if (!dataTable) return;\n",
              "\n",
              "          const docLinkHtml = 'Like what you see? Visit the ' +\n",
              "            '<a target=\"_blank\" href=https://colab.research.google.com/notebooks/data_table.ipynb>data table notebook</a>'\n",
              "            + ' to learn more about interactive tables.';\n",
              "          element.innerHTML = '';\n",
              "          dataTable['output_type'] = 'display_data';\n",
              "          await google.colab.output.renderOutput(dataTable, element);\n",
              "          const docLink = document.createElement('div');\n",
              "          docLink.innerHTML = docLinkHtml;\n",
              "          element.appendChild(docLink);\n",
              "        }\n",
              "      </script>\n",
              "    </div>\n",
              "  </div>\n",
              "  "
            ],
            "text/plain": [
              "   attribute_1  attribute_2  attribute_3  ...  attribute_59  attribute_60  Class\n",
              "0       0.0200       0.0371       0.0428  ...        0.0090        0.0032   Rock\n",
              "1       0.0453       0.0523       0.0843  ...        0.0052        0.0044   Rock\n",
              "2       0.0262       0.0582       0.1099  ...        0.0095        0.0078   Rock\n",
              "3       0.0100       0.0171       0.0623  ...        0.0040        0.0117   Rock\n",
              "4       0.0762       0.0666       0.0481  ...        0.0107        0.0094   Rock\n",
              "\n",
              "[5 rows x 61 columns]"
            ]
          },
          "metadata": {},
          "execution_count": 65
        }
      ]
    },
    {
      "cell_type": "code",
      "source": [
        "# describing the dataframe - 2\n",
        "list(df.columns)"
      ],
      "metadata": {
        "colab": {
          "base_uri": "https://localhost:8080/"
        },
        "id": "kkL61FFAzN39",
        "outputId": "e3329e44-9c11-482e-fb75-6fb989402e07"
      },
      "execution_count": 66,
      "outputs": [
        {
          "output_type": "execute_result",
          "data": {
            "text/plain": [
              "['attribute_1',\n",
              " 'attribute_2',\n",
              " 'attribute_3',\n",
              " 'attribute_4',\n",
              " 'attribute_5',\n",
              " 'attribute_6',\n",
              " 'attribute_7',\n",
              " 'attribute_8',\n",
              " 'attribute_9',\n",
              " 'attribute_10',\n",
              " 'attribute_11',\n",
              " 'attribute_12',\n",
              " 'attribute_13',\n",
              " 'attribute_14',\n",
              " 'attribute_15',\n",
              " 'attribute_16',\n",
              " 'attribute_17',\n",
              " 'attribute_18',\n",
              " 'attribute_19',\n",
              " 'attribute_20',\n",
              " 'attribute_21',\n",
              " 'attribute_22',\n",
              " 'attribute_23',\n",
              " 'attribute_24',\n",
              " 'attribute_25',\n",
              " 'attribute_26',\n",
              " 'attribute_27',\n",
              " 'attribute_28',\n",
              " 'attribute_29',\n",
              " 'attribute_30',\n",
              " 'attribute_31',\n",
              " 'attribute_32',\n",
              " 'attribute_33',\n",
              " 'attribute_34',\n",
              " 'attribute_35',\n",
              " 'attribute_36',\n",
              " 'attribute_37',\n",
              " 'attribute_38',\n",
              " 'attribute_39',\n",
              " 'attribute_40',\n",
              " 'attribute_41',\n",
              " 'attribute_42',\n",
              " 'attribute_43',\n",
              " 'attribute_44',\n",
              " 'attribute_45',\n",
              " 'attribute_46',\n",
              " 'attribute_47',\n",
              " 'attribute_48',\n",
              " 'attribute_49',\n",
              " 'attribute_50',\n",
              " 'attribute_51',\n",
              " 'attribute_52',\n",
              " 'attribute_53',\n",
              " 'attribute_54',\n",
              " 'attribute_55',\n",
              " 'attribute_56',\n",
              " 'attribute_57',\n",
              " 'attribute_58',\n",
              " 'attribute_59',\n",
              " 'attribute_60',\n",
              " 'Class']"
            ]
          },
          "metadata": {},
          "execution_count": 66
        }
      ]
    },
    {
      "cell_type": "code",
      "metadata": {
        "colab": {
          "base_uri": "https://localhost:8080/",
          "height": 364
        },
        "id": "zta_Am-o-0PJ",
        "outputId": "caede051-ed25-4817-8352-20f722c532d6"
      },
      "source": [
        "# describing the dataframe - 3\n",
        "df.describe()"
      ],
      "execution_count": 67,
      "outputs": [
        {
          "output_type": "execute_result",
          "data": {
            "text/html": [
              "\n",
              "  <div id=\"df-9caff21d-0463-4b7c-b101-f959db175735\">\n",
              "    <div class=\"colab-df-container\">\n",
              "      <div>\n",
              "<style scoped>\n",
              "    .dataframe tbody tr th:only-of-type {\n",
              "        vertical-align: middle;\n",
              "    }\n",
              "\n",
              "    .dataframe tbody tr th {\n",
              "        vertical-align: top;\n",
              "    }\n",
              "\n",
              "    .dataframe thead th {\n",
              "        text-align: right;\n",
              "    }\n",
              "</style>\n",
              "<table border=\"1\" class=\"dataframe\">\n",
              "  <thead>\n",
              "    <tr style=\"text-align: right;\">\n",
              "      <th></th>\n",
              "      <th>attribute_1</th>\n",
              "      <th>attribute_2</th>\n",
              "      <th>attribute_3</th>\n",
              "      <th>attribute_4</th>\n",
              "      <th>attribute_5</th>\n",
              "      <th>attribute_6</th>\n",
              "      <th>attribute_7</th>\n",
              "      <th>attribute_8</th>\n",
              "      <th>attribute_9</th>\n",
              "      <th>attribute_10</th>\n",
              "      <th>attribute_11</th>\n",
              "      <th>attribute_12</th>\n",
              "      <th>attribute_13</th>\n",
              "      <th>attribute_14</th>\n",
              "      <th>attribute_15</th>\n",
              "      <th>attribute_16</th>\n",
              "      <th>attribute_17</th>\n",
              "      <th>attribute_18</th>\n",
              "      <th>attribute_19</th>\n",
              "      <th>attribute_20</th>\n",
              "      <th>attribute_21</th>\n",
              "      <th>attribute_22</th>\n",
              "      <th>attribute_23</th>\n",
              "      <th>attribute_24</th>\n",
              "      <th>attribute_25</th>\n",
              "      <th>attribute_26</th>\n",
              "      <th>attribute_27</th>\n",
              "      <th>attribute_28</th>\n",
              "      <th>attribute_29</th>\n",
              "      <th>attribute_30</th>\n",
              "      <th>attribute_31</th>\n",
              "      <th>attribute_32</th>\n",
              "      <th>attribute_33</th>\n",
              "      <th>attribute_34</th>\n",
              "      <th>attribute_35</th>\n",
              "      <th>attribute_36</th>\n",
              "      <th>attribute_37</th>\n",
              "      <th>attribute_38</th>\n",
              "      <th>attribute_39</th>\n",
              "      <th>attribute_40</th>\n",
              "      <th>attribute_41</th>\n",
              "      <th>attribute_42</th>\n",
              "      <th>attribute_43</th>\n",
              "      <th>attribute_44</th>\n",
              "      <th>attribute_45</th>\n",
              "      <th>attribute_46</th>\n",
              "      <th>attribute_47</th>\n",
              "      <th>attribute_48</th>\n",
              "      <th>attribute_49</th>\n",
              "      <th>attribute_50</th>\n",
              "      <th>attribute_51</th>\n",
              "      <th>attribute_52</th>\n",
              "      <th>attribute_53</th>\n",
              "      <th>attribute_54</th>\n",
              "      <th>attribute_55</th>\n",
              "      <th>attribute_56</th>\n",
              "      <th>attribute_57</th>\n",
              "      <th>attribute_58</th>\n",
              "      <th>attribute_59</th>\n",
              "      <th>attribute_60</th>\n",
              "    </tr>\n",
              "  </thead>\n",
              "  <tbody>\n",
              "    <tr>\n",
              "      <th>count</th>\n",
              "      <td>208.000000</td>\n",
              "      <td>208.000000</td>\n",
              "      <td>208.000000</td>\n",
              "      <td>208.000000</td>\n",
              "      <td>208.000000</td>\n",
              "      <td>208.000000</td>\n",
              "      <td>208.000000</td>\n",
              "      <td>208.000000</td>\n",
              "      <td>208.000000</td>\n",
              "      <td>208.000000</td>\n",
              "      <td>208.000000</td>\n",
              "      <td>208.000000</td>\n",
              "      <td>208.000000</td>\n",
              "      <td>208.000000</td>\n",
              "      <td>208.000000</td>\n",
              "      <td>208.000000</td>\n",
              "      <td>208.000000</td>\n",
              "      <td>208.000000</td>\n",
              "      <td>208.000000</td>\n",
              "      <td>208.000000</td>\n",
              "      <td>208.000000</td>\n",
              "      <td>208.000000</td>\n",
              "      <td>208.000000</td>\n",
              "      <td>208.000000</td>\n",
              "      <td>208.000000</td>\n",
              "      <td>208.000000</td>\n",
              "      <td>208.000000</td>\n",
              "      <td>208.000000</td>\n",
              "      <td>208.000000</td>\n",
              "      <td>208.000000</td>\n",
              "      <td>208.000000</td>\n",
              "      <td>208.000000</td>\n",
              "      <td>208.000000</td>\n",
              "      <td>208.000000</td>\n",
              "      <td>208.000000</td>\n",
              "      <td>208.000000</td>\n",
              "      <td>208.000000</td>\n",
              "      <td>208.000000</td>\n",
              "      <td>208.000000</td>\n",
              "      <td>208.000000</td>\n",
              "      <td>208.000000</td>\n",
              "      <td>208.000000</td>\n",
              "      <td>208.000000</td>\n",
              "      <td>208.000000</td>\n",
              "      <td>208.000000</td>\n",
              "      <td>208.000000</td>\n",
              "      <td>208.000000</td>\n",
              "      <td>208.000000</td>\n",
              "      <td>208.000000</td>\n",
              "      <td>208.000000</td>\n",
              "      <td>208.000000</td>\n",
              "      <td>208.000000</td>\n",
              "      <td>208.000000</td>\n",
              "      <td>208.000000</td>\n",
              "      <td>208.000000</td>\n",
              "      <td>208.000000</td>\n",
              "      <td>208.000000</td>\n",
              "      <td>208.000000</td>\n",
              "      <td>208.000000</td>\n",
              "      <td>208.000000</td>\n",
              "    </tr>\n",
              "    <tr>\n",
              "      <th>mean</th>\n",
              "      <td>0.029164</td>\n",
              "      <td>0.038437</td>\n",
              "      <td>0.043832</td>\n",
              "      <td>0.053892</td>\n",
              "      <td>0.075202</td>\n",
              "      <td>0.104570</td>\n",
              "      <td>0.121747</td>\n",
              "      <td>0.134799</td>\n",
              "      <td>0.178003</td>\n",
              "      <td>0.208259</td>\n",
              "      <td>0.236013</td>\n",
              "      <td>0.250221</td>\n",
              "      <td>0.273305</td>\n",
              "      <td>0.296568</td>\n",
              "      <td>0.320201</td>\n",
              "      <td>0.378487</td>\n",
              "      <td>0.415983</td>\n",
              "      <td>0.452318</td>\n",
              "      <td>0.504812</td>\n",
              "      <td>0.563047</td>\n",
              "      <td>0.609060</td>\n",
              "      <td>0.624275</td>\n",
              "      <td>0.646975</td>\n",
              "      <td>0.672654</td>\n",
              "      <td>0.675424</td>\n",
              "      <td>0.699866</td>\n",
              "      <td>0.702155</td>\n",
              "      <td>0.694024</td>\n",
              "      <td>0.642074</td>\n",
              "      <td>0.580928</td>\n",
              "      <td>0.504475</td>\n",
              "      <td>0.439040</td>\n",
              "      <td>0.417220</td>\n",
              "      <td>0.403233</td>\n",
              "      <td>0.392571</td>\n",
              "      <td>0.384848</td>\n",
              "      <td>0.363807</td>\n",
              "      <td>0.339657</td>\n",
              "      <td>0.325800</td>\n",
              "      <td>0.311207</td>\n",
              "      <td>0.289252</td>\n",
              "      <td>0.278293</td>\n",
              "      <td>0.246542</td>\n",
              "      <td>0.214075</td>\n",
              "      <td>0.197232</td>\n",
              "      <td>0.160631</td>\n",
              "      <td>0.122453</td>\n",
              "      <td>0.091424</td>\n",
              "      <td>0.051929</td>\n",
              "      <td>0.020424</td>\n",
              "      <td>0.016069</td>\n",
              "      <td>0.013420</td>\n",
              "      <td>0.010709</td>\n",
              "      <td>0.010941</td>\n",
              "      <td>0.009290</td>\n",
              "      <td>0.008222</td>\n",
              "      <td>0.007820</td>\n",
              "      <td>0.007949</td>\n",
              "      <td>0.007941</td>\n",
              "      <td>0.006507</td>\n",
              "    </tr>\n",
              "    <tr>\n",
              "      <th>std</th>\n",
              "      <td>0.022991</td>\n",
              "      <td>0.032960</td>\n",
              "      <td>0.038428</td>\n",
              "      <td>0.046528</td>\n",
              "      <td>0.055552</td>\n",
              "      <td>0.059105</td>\n",
              "      <td>0.061788</td>\n",
              "      <td>0.085152</td>\n",
              "      <td>0.118387</td>\n",
              "      <td>0.134416</td>\n",
              "      <td>0.132705</td>\n",
              "      <td>0.140072</td>\n",
              "      <td>0.140962</td>\n",
              "      <td>0.164474</td>\n",
              "      <td>0.205427</td>\n",
              "      <td>0.232650</td>\n",
              "      <td>0.263677</td>\n",
              "      <td>0.261529</td>\n",
              "      <td>0.257988</td>\n",
              "      <td>0.262653</td>\n",
              "      <td>0.257818</td>\n",
              "      <td>0.255883</td>\n",
              "      <td>0.250175</td>\n",
              "      <td>0.239116</td>\n",
              "      <td>0.244926</td>\n",
              "      <td>0.237228</td>\n",
              "      <td>0.245657</td>\n",
              "      <td>0.237189</td>\n",
              "      <td>0.240250</td>\n",
              "      <td>0.220749</td>\n",
              "      <td>0.213992</td>\n",
              "      <td>0.213237</td>\n",
              "      <td>0.206513</td>\n",
              "      <td>0.231242</td>\n",
              "      <td>0.259132</td>\n",
              "      <td>0.264121</td>\n",
              "      <td>0.239912</td>\n",
              "      <td>0.212973</td>\n",
              "      <td>0.199075</td>\n",
              "      <td>0.178662</td>\n",
              "      <td>0.171111</td>\n",
              "      <td>0.168728</td>\n",
              "      <td>0.138993</td>\n",
              "      <td>0.133291</td>\n",
              "      <td>0.151628</td>\n",
              "      <td>0.133938</td>\n",
              "      <td>0.086953</td>\n",
              "      <td>0.062417</td>\n",
              "      <td>0.035954</td>\n",
              "      <td>0.013665</td>\n",
              "      <td>0.012008</td>\n",
              "      <td>0.009634</td>\n",
              "      <td>0.007060</td>\n",
              "      <td>0.007301</td>\n",
              "      <td>0.007088</td>\n",
              "      <td>0.005736</td>\n",
              "      <td>0.005785</td>\n",
              "      <td>0.006470</td>\n",
              "      <td>0.006181</td>\n",
              "      <td>0.005031</td>\n",
              "    </tr>\n",
              "    <tr>\n",
              "      <th>min</th>\n",
              "      <td>0.001500</td>\n",
              "      <td>0.000600</td>\n",
              "      <td>0.001500</td>\n",
              "      <td>0.005800</td>\n",
              "      <td>0.006700</td>\n",
              "      <td>0.010200</td>\n",
              "      <td>0.003300</td>\n",
              "      <td>0.005500</td>\n",
              "      <td>0.007500</td>\n",
              "      <td>0.011300</td>\n",
              "      <td>0.028900</td>\n",
              "      <td>0.023600</td>\n",
              "      <td>0.018400</td>\n",
              "      <td>0.027300</td>\n",
              "      <td>0.003100</td>\n",
              "      <td>0.016200</td>\n",
              "      <td>0.034900</td>\n",
              "      <td>0.037500</td>\n",
              "      <td>0.049400</td>\n",
              "      <td>0.065600</td>\n",
              "      <td>0.051200</td>\n",
              "      <td>0.021900</td>\n",
              "      <td>0.056300</td>\n",
              "      <td>0.023900</td>\n",
              "      <td>0.024000</td>\n",
              "      <td>0.092100</td>\n",
              "      <td>0.048100</td>\n",
              "      <td>0.028400</td>\n",
              "      <td>0.014400</td>\n",
              "      <td>0.061300</td>\n",
              "      <td>0.048200</td>\n",
              "      <td>0.040400</td>\n",
              "      <td>0.047700</td>\n",
              "      <td>0.021200</td>\n",
              "      <td>0.022300</td>\n",
              "      <td>0.008000</td>\n",
              "      <td>0.035100</td>\n",
              "      <td>0.038300</td>\n",
              "      <td>0.037100</td>\n",
              "      <td>0.011700</td>\n",
              "      <td>0.036000</td>\n",
              "      <td>0.005600</td>\n",
              "      <td>0.000000</td>\n",
              "      <td>0.000000</td>\n",
              "      <td>0.000000</td>\n",
              "      <td>0.000000</td>\n",
              "      <td>0.000000</td>\n",
              "      <td>0.000000</td>\n",
              "      <td>0.000000</td>\n",
              "      <td>0.000000</td>\n",
              "      <td>0.000000</td>\n",
              "      <td>0.000800</td>\n",
              "      <td>0.000500</td>\n",
              "      <td>0.001000</td>\n",
              "      <td>0.000600</td>\n",
              "      <td>0.000400</td>\n",
              "      <td>0.000300</td>\n",
              "      <td>0.000300</td>\n",
              "      <td>0.000100</td>\n",
              "      <td>0.000600</td>\n",
              "    </tr>\n",
              "    <tr>\n",
              "      <th>25%</th>\n",
              "      <td>0.013350</td>\n",
              "      <td>0.016450</td>\n",
              "      <td>0.018950</td>\n",
              "      <td>0.024375</td>\n",
              "      <td>0.038050</td>\n",
              "      <td>0.067025</td>\n",
              "      <td>0.080900</td>\n",
              "      <td>0.080425</td>\n",
              "      <td>0.097025</td>\n",
              "      <td>0.111275</td>\n",
              "      <td>0.129250</td>\n",
              "      <td>0.133475</td>\n",
              "      <td>0.166125</td>\n",
              "      <td>0.175175</td>\n",
              "      <td>0.164625</td>\n",
              "      <td>0.196300</td>\n",
              "      <td>0.205850</td>\n",
              "      <td>0.242075</td>\n",
              "      <td>0.299075</td>\n",
              "      <td>0.350625</td>\n",
              "      <td>0.399725</td>\n",
              "      <td>0.406925</td>\n",
              "      <td>0.450225</td>\n",
              "      <td>0.540725</td>\n",
              "      <td>0.525800</td>\n",
              "      <td>0.544175</td>\n",
              "      <td>0.531900</td>\n",
              "      <td>0.534775</td>\n",
              "      <td>0.463700</td>\n",
              "      <td>0.411400</td>\n",
              "      <td>0.345550</td>\n",
              "      <td>0.281400</td>\n",
              "      <td>0.257875</td>\n",
              "      <td>0.217575</td>\n",
              "      <td>0.179375</td>\n",
              "      <td>0.154350</td>\n",
              "      <td>0.160100</td>\n",
              "      <td>0.174275</td>\n",
              "      <td>0.173975</td>\n",
              "      <td>0.186450</td>\n",
              "      <td>0.163100</td>\n",
              "      <td>0.158900</td>\n",
              "      <td>0.155200</td>\n",
              "      <td>0.126875</td>\n",
              "      <td>0.094475</td>\n",
              "      <td>0.068550</td>\n",
              "      <td>0.064250</td>\n",
              "      <td>0.045125</td>\n",
              "      <td>0.026350</td>\n",
              "      <td>0.011550</td>\n",
              "      <td>0.008425</td>\n",
              "      <td>0.007275</td>\n",
              "      <td>0.005075</td>\n",
              "      <td>0.005375</td>\n",
              "      <td>0.004150</td>\n",
              "      <td>0.004400</td>\n",
              "      <td>0.003700</td>\n",
              "      <td>0.003600</td>\n",
              "      <td>0.003675</td>\n",
              "      <td>0.003100</td>\n",
              "    </tr>\n",
              "    <tr>\n",
              "      <th>50%</th>\n",
              "      <td>0.022800</td>\n",
              "      <td>0.030800</td>\n",
              "      <td>0.034300</td>\n",
              "      <td>0.044050</td>\n",
              "      <td>0.062500</td>\n",
              "      <td>0.092150</td>\n",
              "      <td>0.106950</td>\n",
              "      <td>0.112100</td>\n",
              "      <td>0.152250</td>\n",
              "      <td>0.182400</td>\n",
              "      <td>0.224800</td>\n",
              "      <td>0.249050</td>\n",
              "      <td>0.263950</td>\n",
              "      <td>0.281100</td>\n",
              "      <td>0.281700</td>\n",
              "      <td>0.304700</td>\n",
              "      <td>0.308400</td>\n",
              "      <td>0.368300</td>\n",
              "      <td>0.434950</td>\n",
              "      <td>0.542500</td>\n",
              "      <td>0.617700</td>\n",
              "      <td>0.664900</td>\n",
              "      <td>0.699700</td>\n",
              "      <td>0.698500</td>\n",
              "      <td>0.721100</td>\n",
              "      <td>0.754500</td>\n",
              "      <td>0.745600</td>\n",
              "      <td>0.731900</td>\n",
              "      <td>0.680800</td>\n",
              "      <td>0.607150</td>\n",
              "      <td>0.490350</td>\n",
              "      <td>0.429600</td>\n",
              "      <td>0.391200</td>\n",
              "      <td>0.351050</td>\n",
              "      <td>0.312750</td>\n",
              "      <td>0.321150</td>\n",
              "      <td>0.306300</td>\n",
              "      <td>0.312700</td>\n",
              "      <td>0.283500</td>\n",
              "      <td>0.278050</td>\n",
              "      <td>0.259500</td>\n",
              "      <td>0.245100</td>\n",
              "      <td>0.222550</td>\n",
              "      <td>0.177700</td>\n",
              "      <td>0.148000</td>\n",
              "      <td>0.121350</td>\n",
              "      <td>0.101650</td>\n",
              "      <td>0.078100</td>\n",
              "      <td>0.044700</td>\n",
              "      <td>0.017900</td>\n",
              "      <td>0.013900</td>\n",
              "      <td>0.011400</td>\n",
              "      <td>0.009550</td>\n",
              "      <td>0.009300</td>\n",
              "      <td>0.007500</td>\n",
              "      <td>0.006850</td>\n",
              "      <td>0.005950</td>\n",
              "      <td>0.005800</td>\n",
              "      <td>0.006400</td>\n",
              "      <td>0.005300</td>\n",
              "    </tr>\n",
              "    <tr>\n",
              "      <th>75%</th>\n",
              "      <td>0.035550</td>\n",
              "      <td>0.047950</td>\n",
              "      <td>0.057950</td>\n",
              "      <td>0.064500</td>\n",
              "      <td>0.100275</td>\n",
              "      <td>0.134125</td>\n",
              "      <td>0.154000</td>\n",
              "      <td>0.169600</td>\n",
              "      <td>0.233425</td>\n",
              "      <td>0.268700</td>\n",
              "      <td>0.301650</td>\n",
              "      <td>0.331250</td>\n",
              "      <td>0.351250</td>\n",
              "      <td>0.386175</td>\n",
              "      <td>0.452925</td>\n",
              "      <td>0.535725</td>\n",
              "      <td>0.659425</td>\n",
              "      <td>0.679050</td>\n",
              "      <td>0.731400</td>\n",
              "      <td>0.809325</td>\n",
              "      <td>0.816975</td>\n",
              "      <td>0.831975</td>\n",
              "      <td>0.848575</td>\n",
              "      <td>0.872175</td>\n",
              "      <td>0.873725</td>\n",
              "      <td>0.893800</td>\n",
              "      <td>0.917100</td>\n",
              "      <td>0.900275</td>\n",
              "      <td>0.852125</td>\n",
              "      <td>0.735175</td>\n",
              "      <td>0.641950</td>\n",
              "      <td>0.580300</td>\n",
              "      <td>0.556125</td>\n",
              "      <td>0.596125</td>\n",
              "      <td>0.593350</td>\n",
              "      <td>0.556525</td>\n",
              "      <td>0.518900</td>\n",
              "      <td>0.440550</td>\n",
              "      <td>0.434900</td>\n",
              "      <td>0.424350</td>\n",
              "      <td>0.387525</td>\n",
              "      <td>0.384250</td>\n",
              "      <td>0.324525</td>\n",
              "      <td>0.271750</td>\n",
              "      <td>0.231550</td>\n",
              "      <td>0.200375</td>\n",
              "      <td>0.154425</td>\n",
              "      <td>0.120100</td>\n",
              "      <td>0.068525</td>\n",
              "      <td>0.025275</td>\n",
              "      <td>0.020825</td>\n",
              "      <td>0.016725</td>\n",
              "      <td>0.014900</td>\n",
              "      <td>0.014500</td>\n",
              "      <td>0.012100</td>\n",
              "      <td>0.010575</td>\n",
              "      <td>0.010425</td>\n",
              "      <td>0.010350</td>\n",
              "      <td>0.010325</td>\n",
              "      <td>0.008525</td>\n",
              "    </tr>\n",
              "    <tr>\n",
              "      <th>max</th>\n",
              "      <td>0.137100</td>\n",
              "      <td>0.233900</td>\n",
              "      <td>0.305900</td>\n",
              "      <td>0.426400</td>\n",
              "      <td>0.401000</td>\n",
              "      <td>0.382300</td>\n",
              "      <td>0.372900</td>\n",
              "      <td>0.459000</td>\n",
              "      <td>0.682800</td>\n",
              "      <td>0.710600</td>\n",
              "      <td>0.734200</td>\n",
              "      <td>0.706000</td>\n",
              "      <td>0.713100</td>\n",
              "      <td>0.997000</td>\n",
              "      <td>1.000000</td>\n",
              "      <td>0.998800</td>\n",
              "      <td>1.000000</td>\n",
              "      <td>1.000000</td>\n",
              "      <td>1.000000</td>\n",
              "      <td>1.000000</td>\n",
              "      <td>1.000000</td>\n",
              "      <td>1.000000</td>\n",
              "      <td>1.000000</td>\n",
              "      <td>1.000000</td>\n",
              "      <td>1.000000</td>\n",
              "      <td>1.000000</td>\n",
              "      <td>1.000000</td>\n",
              "      <td>1.000000</td>\n",
              "      <td>1.000000</td>\n",
              "      <td>1.000000</td>\n",
              "      <td>0.965700</td>\n",
              "      <td>0.930600</td>\n",
              "      <td>1.000000</td>\n",
              "      <td>0.964700</td>\n",
              "      <td>1.000000</td>\n",
              "      <td>1.000000</td>\n",
              "      <td>0.949700</td>\n",
              "      <td>1.000000</td>\n",
              "      <td>0.985700</td>\n",
              "      <td>0.929700</td>\n",
              "      <td>0.899500</td>\n",
              "      <td>0.824600</td>\n",
              "      <td>0.773300</td>\n",
              "      <td>0.776200</td>\n",
              "      <td>0.703400</td>\n",
              "      <td>0.729200</td>\n",
              "      <td>0.552200</td>\n",
              "      <td>0.333900</td>\n",
              "      <td>0.198100</td>\n",
              "      <td>0.082500</td>\n",
              "      <td>0.100400</td>\n",
              "      <td>0.070900</td>\n",
              "      <td>0.039000</td>\n",
              "      <td>0.035200</td>\n",
              "      <td>0.044700</td>\n",
              "      <td>0.039400</td>\n",
              "      <td>0.035500</td>\n",
              "      <td>0.044000</td>\n",
              "      <td>0.036400</td>\n",
              "      <td>0.043900</td>\n",
              "    </tr>\n",
              "  </tbody>\n",
              "</table>\n",
              "</div>\n",
              "      <button class=\"colab-df-convert\" onclick=\"convertToInteractive('df-9caff21d-0463-4b7c-b101-f959db175735')\"\n",
              "              title=\"Convert this dataframe to an interactive table.\"\n",
              "              style=\"display:none;\">\n",
              "        \n",
              "  <svg xmlns=\"http://www.w3.org/2000/svg\" height=\"24px\"viewBox=\"0 0 24 24\"\n",
              "       width=\"24px\">\n",
              "    <path d=\"M0 0h24v24H0V0z\" fill=\"none\"/>\n",
              "    <path d=\"M18.56 5.44l.94 2.06.94-2.06 2.06-.94-2.06-.94-.94-2.06-.94 2.06-2.06.94zm-11 1L8.5 8.5l.94-2.06 2.06-.94-2.06-.94L8.5 2.5l-.94 2.06-2.06.94zm10 10l.94 2.06.94-2.06 2.06-.94-2.06-.94-.94-2.06-.94 2.06-2.06.94z\"/><path d=\"M17.41 7.96l-1.37-1.37c-.4-.4-.92-.59-1.43-.59-.52 0-1.04.2-1.43.59L10.3 9.45l-7.72 7.72c-.78.78-.78 2.05 0 2.83L4 21.41c.39.39.9.59 1.41.59.51 0 1.02-.2 1.41-.59l7.78-7.78 2.81-2.81c.8-.78.8-2.07 0-2.86zM5.41 20L4 18.59l7.72-7.72 1.47 1.35L5.41 20z\"/>\n",
              "  </svg>\n",
              "      </button>\n",
              "      \n",
              "  <style>\n",
              "    .colab-df-container {\n",
              "      display:flex;\n",
              "      flex-wrap:wrap;\n",
              "      gap: 12px;\n",
              "    }\n",
              "\n",
              "    .colab-df-convert {\n",
              "      background-color: #E8F0FE;\n",
              "      border: none;\n",
              "      border-radius: 50%;\n",
              "      cursor: pointer;\n",
              "      display: none;\n",
              "      fill: #1967D2;\n",
              "      height: 32px;\n",
              "      padding: 0 0 0 0;\n",
              "      width: 32px;\n",
              "    }\n",
              "\n",
              "    .colab-df-convert:hover {\n",
              "      background-color: #E2EBFA;\n",
              "      box-shadow: 0px 1px 2px rgba(60, 64, 67, 0.3), 0px 1px 3px 1px rgba(60, 64, 67, 0.15);\n",
              "      fill: #174EA6;\n",
              "    }\n",
              "\n",
              "    [theme=dark] .colab-df-convert {\n",
              "      background-color: #3B4455;\n",
              "      fill: #D2E3FC;\n",
              "    }\n",
              "\n",
              "    [theme=dark] .colab-df-convert:hover {\n",
              "      background-color: #434B5C;\n",
              "      box-shadow: 0px 1px 3px 1px rgba(0, 0, 0, 0.15);\n",
              "      filter: drop-shadow(0px 1px 2px rgba(0, 0, 0, 0.3));\n",
              "      fill: #FFFFFF;\n",
              "    }\n",
              "  </style>\n",
              "\n",
              "      <script>\n",
              "        const buttonEl =\n",
              "          document.querySelector('#df-9caff21d-0463-4b7c-b101-f959db175735 button.colab-df-convert');\n",
              "        buttonEl.style.display =\n",
              "          google.colab.kernel.accessAllowed ? 'block' : 'none';\n",
              "\n",
              "        async function convertToInteractive(key) {\n",
              "          const element = document.querySelector('#df-9caff21d-0463-4b7c-b101-f959db175735');\n",
              "          const dataTable =\n",
              "            await google.colab.kernel.invokeFunction('convertToInteractive',\n",
              "                                                     [key], {});\n",
              "          if (!dataTable) return;\n",
              "\n",
              "          const docLinkHtml = 'Like what you see? Visit the ' +\n",
              "            '<a target=\"_blank\" href=https://colab.research.google.com/notebooks/data_table.ipynb>data table notebook</a>'\n",
              "            + ' to learn more about interactive tables.';\n",
              "          element.innerHTML = '';\n",
              "          dataTable['output_type'] = 'display_data';\n",
              "          await google.colab.output.renderOutput(dataTable, element);\n",
              "          const docLink = document.createElement('div');\n",
              "          docLink.innerHTML = docLinkHtml;\n",
              "          element.appendChild(docLink);\n",
              "        }\n",
              "      </script>\n",
              "    </div>\n",
              "  </div>\n",
              "  "
            ],
            "text/plain": [
              "       attribute_1  attribute_2  ...  attribute_59  attribute_60\n",
              "count   208.000000   208.000000  ...    208.000000    208.000000\n",
              "mean      0.029164     0.038437  ...      0.007941      0.006507\n",
              "std       0.022991     0.032960  ...      0.006181      0.005031\n",
              "min       0.001500     0.000600  ...      0.000100      0.000600\n",
              "25%       0.013350     0.016450  ...      0.003675      0.003100\n",
              "50%       0.022800     0.030800  ...      0.006400      0.005300\n",
              "75%       0.035550     0.047950  ...      0.010325      0.008525\n",
              "max       0.137100     0.233900  ...      0.036400      0.043900\n",
              "\n",
              "[8 rows x 60 columns]"
            ]
          },
          "metadata": {},
          "execution_count": 67
        }
      ]
    },
    {
      "cell_type": "code",
      "metadata": {
        "colab": {
          "base_uri": "https://localhost:8080/"
        },
        "id": "erU0PeC1-7Px",
        "outputId": "e1b9509d-36c7-41b0-a583-bea025460bd9"
      },
      "source": [
        "# describing the dataframe - 4\n",
        "df.shape"
      ],
      "execution_count": 68,
      "outputs": [
        {
          "output_type": "execute_result",
          "data": {
            "text/plain": [
              "(208, 61)"
            ]
          },
          "metadata": {},
          "execution_count": 68
        }
      ]
    },
    {
      "cell_type": "code",
      "metadata": {
        "colab": {
          "base_uri": "https://localhost:8080/"
        },
        "id": "vw3o5M_t-hsO",
        "outputId": "54754270-ad7a-43ad-9896-6bb706be9845"
      },
      "source": [
        "# exploring outcome data\n",
        "df['Class'].value_counts()"
      ],
      "execution_count": 69,
      "outputs": [
        {
          "output_type": "execute_result",
          "data": {
            "text/plain": [
              "Mine    111\n",
              "Rock     97\n",
              "Name: Class, dtype: int64"
            ]
          },
          "metadata": {},
          "execution_count": 69
        }
      ]
    },
    {
      "cell_type": "markdown",
      "metadata": {
        "id": "P3iDyjSh_Eme"
      },
      "source": [
        "We split the data in a train and test set, while ensuring an equal distribution of the outcome variable in both sets."
      ]
    },
    {
      "cell_type": "code",
      "metadata": {
        "id": "iDRA7xvD_HUT"
      },
      "source": [
        "split = StratifiedShuffleSplit(n_splits=1, test_size=0.3, random_state=42)\n",
        "for train_index, test_index in split.split(df, df['Class']):\n",
        "  strat_train_set = df.loc[train_index]\n",
        "  strat_test_set = df.loc[test_index]"
      ],
      "execution_count": 70,
      "outputs": []
    },
    {
      "cell_type": "markdown",
      "source": [
        "### Question 1\n",
        "- Check whether splitting the data indeed resulted in 70% of the data being contained in the train set and 30% in the test set. \n",
        "- Check whether both datasets contain an equal distribution of mines vs. rocks.\n"
      ],
      "metadata": {
        "id": "2W6ShGz-0NvL"
      }
    },
    {
      "cell_type": "code",
      "metadata": {
        "colab": {
          "base_uri": "https://localhost:8080/"
        },
        "id": "D5t8ibImAlV3",
        "outputId": "8f0dc12f-fdba-4529-80b9-ec4f1640d742"
      },
      "source": [
        "# Answer Q1\n",
        "print('share of observations in the train set:', str(round(len(strat_train_set)/len(df), 3)))\n",
        "print('share of observations in the test set:', str(round(len(strat_test_set)/len(df), 3)))\n",
        "print('share of mines in the train set:', str(round(len(strat_train_set.loc[strat_train_set['Class'] == 'Mine'])/len(strat_train_set), 3)))\n",
        "print('share of mines in the test set:', str(round(len(strat_test_set.loc[strat_test_set['Class'] == 'Mine'])/len(strat_test_set), 3)))\n"
      ],
      "execution_count": 71,
      "outputs": [
        {
          "output_type": "stream",
          "name": "stdout",
          "text": [
            "share of observations in the train set: 0.697\n",
            "share of observations in the test set: 0.303\n",
            "share of mines in the train set: 0.531\n",
            "share of mines in the test set: 0.54\n"
          ]
        }
      ]
    },
    {
      "cell_type": "markdown",
      "source": [
        "We now split the features from the outcome data for both the train and the test set, to align with the input needed when using sklearn to train models."
      ],
      "metadata": {
        "id": "FRKJccRY1wzP"
      }
    },
    {
      "cell_type": "code",
      "metadata": {
        "id": "SSqWxbi24D5v"
      },
      "source": [
        "# split features and outcome data\n",
        "X_train = strat_train_set.loc[:,strat_train_set.columns != 'Class']\n",
        "y_train = strat_train_set['Class']\n",
        "X_test = strat_test_set.loc[:,strat_test_set.columns != 'Class']\n",
        "y_test = strat_test_set['Class']\n",
        "\n"
      ],
      "execution_count": 72,
      "outputs": []
    },
    {
      "cell_type": "markdown",
      "metadata": {
        "id": "BT7luOepCXHP"
      },
      "source": [
        "## Model 1: Logistic Regression"
      ]
    },
    {
      "cell_type": "markdown",
      "source": [
        "We start with running a basic logistic regression, which only requires two lines of code: "
      ],
      "metadata": {
        "id": "RqxP39W92oWT"
      }
    },
    {
      "cell_type": "code",
      "metadata": {
        "colab": {
          "base_uri": "https://localhost:8080/"
        },
        "id": "yCYN0Cqmeq2q",
        "outputId": "bdcd74ae-a8e0-4626-eda1-e9e55992ace1"
      },
      "source": [
        "log_clf = LogisticRegression(penalty='none', max_iter=1000)\n",
        "log_clf.fit(X_train, y_train)"
      ],
      "execution_count": 73,
      "outputs": [
        {
          "output_type": "execute_result",
          "data": {
            "text/plain": [
              "LogisticRegression(max_iter=1000, penalty='none')"
            ]
          },
          "metadata": {},
          "execution_count": 73
        }
      ]
    },
    {
      "cell_type": "markdown",
      "source": [
        "### Question 2\n",
        "- look into the documentation for sklearn LogisticRegression to find out what the penalty and max_iter arguments stand for\n",
        "- see what happens when you set max_iter to its default value"
      ],
      "metadata": {
        "id": "Ae7hZzBJ3vkA"
      }
    },
    {
      "cell_type": "markdown",
      "source": [
        "#### answer Q2\n",
        "Documentation can be found at: https://scikit-learn.org/stable/modules/generated/sklearn.linear_model.LogisticRegression.html\n",
        "- the penalty parameter specifies whether ridge, lasso or elastic net penalization is applied, or whether there should be no penalty, as in our case. The max_iter argument specifies the maximum number of iterations taken when trying to converge to a solution.\n",
        "- in case of penalty='none', the default of max_iter=100 results in a warning due to the model not having converged to an optimum. "
      ],
      "metadata": {
        "id": "J9QdONVu4v3R"
      }
    },
    {
      "cell_type": "markdown",
      "source": [
        "### Model evaluation \n",
        "We can now apply our model to the test set and compare predictions to actual outcomes."
      ],
      "metadata": {
        "id": "arFlB5Zn5vsP"
      }
    },
    {
      "cell_type": "code",
      "source": [
        "cm = confusion_matrix(y_test, log_clf.predict(X_test), labels=log_clf.classes_)\n",
        "disp = ConfusionMatrixDisplay(confusion_matrix=cm, display_labels=log_clf.classes_)\n",
        "disp.plot()"
      ],
      "metadata": {
        "colab": {
          "base_uri": "https://localhost:8080/",
          "height": 301
        },
        "id": "l1p3u0k-DwzS",
        "outputId": "cf834e9c-7bb8-4153-d549-4a97e45b9c0f"
      },
      "execution_count": 74,
      "outputs": [
        {
          "output_type": "execute_result",
          "data": {
            "text/plain": [
              "<sklearn.metrics._plot.confusion_matrix.ConfusionMatrixDisplay at 0x7ff9f209ec90>"
            ]
          },
          "metadata": {},
          "execution_count": 74
        },
        {
          "output_type": "display_data",
          "data": {
            "image/png": "[encoded data removed]",
            "text/plain": [
              "<Figure size 432x288 with 2 Axes>"
            ]
          },
          "metadata": {
            "needs_background": "light"
          }
        }
      ]
    },
    {
      "cell_type": "code",
      "metadata": {
        "colab": {
          "base_uri": "https://localhost:8080/"
        },
        "id": "ZvmBh4E9fIdd",
        "outputId": "1ef2d7e1-f78a-48fc-ae35-ce94fd1b0b80"
      },
      "source": [
        "accuracy_score(log_clf.predict(X_test), y_test)"
      ],
      "execution_count": 75,
      "outputs": [
        {
          "output_type": "execute_result",
          "data": {
            "text/plain": [
              "0.6825396825396826"
            ]
          },
          "metadata": {},
          "execution_count": 75
        }
      ]
    },
    {
      "cell_type": "code",
      "metadata": {
        "colab": {
          "base_uri": "https://localhost:8080/"
        },
        "id": "14yEz9MHfbQL",
        "outputId": "96047029-9287-489c-cf8d-469170c0f6d7"
      },
      "source": [
        "print('accuracy equals: ', str((26+17)/len(y_test)))"
      ],
      "execution_count": 76,
      "outputs": [
        {
          "output_type": "stream",
          "name": "stdout",
          "text": [
            "accuracy equals:  0.6825396825396826\n"
          ]
        }
      ]
    },
    {
      "cell_type": "markdown",
      "source": [
        "### Question 3\n",
        "use sklearn to determine precision and check the answer as was done above with accuracy"
      ],
      "metadata": {
        "id": "P9o0DnEn7Ly5"
      }
    },
    {
      "cell_type": "code",
      "source": [
        "# Answer Q3\n",
        "from sklearn.metrics import precision_score\n",
        "precision_score(log_clf.predict(X_test), y_test, pos_label='Mine')"
      ],
      "metadata": {
        "colab": {
          "base_uri": "https://localhost:8080/"
        },
        "id": "T3cQuJkVvgBj",
        "outputId": "129ee003-59db-4530-db3e-c6bdf9fcdc1c"
      },
      "execution_count": 77,
      "outputs": [
        {
          "output_type": "execute_result",
          "data": {
            "text/plain": [
              "0.7647058823529411"
            ]
          },
          "metadata": {},
          "execution_count": 77
        }
      ]
    },
    {
      "cell_type": "code",
      "source": [
        "# Answer Q3\n",
        "print('precision equals: ', str((26)/(26+8)))"
      ],
      "metadata": {
        "colab": {
          "base_uri": "https://localhost:8080/"
        },
        "id": "jN5XnML5wA_c",
        "outputId": "b3c81d51-cb67-404d-83f3-6bfa08797f43"
      },
      "execution_count": 78,
      "outputs": [
        {
          "output_type": "stream",
          "name": "stdout",
          "text": [
            "precision equals:  0.7647058823529411\n"
          ]
        }
      ]
    },
    {
      "cell_type": "markdown",
      "source": [
        "### Question 4\n",
        "- why were there no hyperparameters tuned in this model?\n",
        "- how is the assessment of model performance in this example different from how you would normally do it at this stage of the process?"
      ],
      "metadata": {
        "id": "ejCIIR167c94"
      }
    },
    {
      "cell_type": "markdown",
      "metadata": {
        "id": "d0nUMIaJf0MV"
      },
      "source": [
        "## Model 2: LASSO"
      ]
    },
    {
      "cell_type": "markdown",
      "source": [
        "Let's now train a LASSO model, which includes a penalty hyperparameter. We know from the inner workings of LASSO models that these models depend on the scale in which features are measured. We therefore start off with standardizing all features."
      ],
      "metadata": {
        "id": "LNef_BInwr3D"
      }
    },
    {
      "cell_type": "code",
      "metadata": {
        "colab": {
          "base_uri": "https://localhost:8080/",
          "height": 270
        },
        "id": "sblWEKGklJZv",
        "outputId": "8f8baee4-8dca-4ada-ae7c-f6177172bceb"
      },
      "source": [
        "sc = StandardScaler()\n",
        "X_train_prep = sc.fit_transform(X_train)\n",
        "X_train_prep = pd.DataFrame(data = X_train_prep, columns = X_train.columns)\n",
        "X_train_prep.head()"
      ],
      "execution_count": 79,
      "outputs": [
        {
          "output_type": "execute_result",
          "data": {
            "text/html": [
              "\n",
              "  <div id=\"df-0cc31175-3830-4fa3-ab44-b86789c84232\">\n",
              "    <div class=\"colab-df-container\">\n",
              "      <div>\n",
              "<style scoped>\n",
              "    .dataframe tbody tr th:only-of-type {\n",
              "        vertical-align: middle;\n",
              "    }\n",
              "\n",
              "    .dataframe tbody tr th {\n",
              "        vertical-align: top;\n",
              "    }\n",
              "\n",
              "    .dataframe thead th {\n",
              "        text-align: right;\n",
              "    }\n",
              "</style>\n",
              "<table border=\"1\" class=\"dataframe\">\n",
              "  <thead>\n",
              "    <tr style=\"text-align: right;\">\n",
              "      <th></th>\n",
              "      <th>attribute_1</th>\n",
              "      <th>attribute_2</th>\n",
              "      <th>attribute_3</th>\n",
              "      <th>attribute_4</th>\n",
              "      <th>attribute_5</th>\n",
              "      <th>attribute_6</th>\n",
              "      <th>attribute_7</th>\n",
              "      <th>attribute_8</th>\n",
              "      <th>attribute_9</th>\n",
              "      <th>attribute_10</th>\n",
              "      <th>attribute_11</th>\n",
              "      <th>attribute_12</th>\n",
              "      <th>attribute_13</th>\n",
              "      <th>attribute_14</th>\n",
              "      <th>attribute_15</th>\n",
              "      <th>attribute_16</th>\n",
              "      <th>attribute_17</th>\n",
              "      <th>attribute_18</th>\n",
              "      <th>attribute_19</th>\n",
              "      <th>attribute_20</th>\n",
              "      <th>attribute_21</th>\n",
              "      <th>attribute_22</th>\n",
              "      <th>attribute_23</th>\n",
              "      <th>attribute_24</th>\n",
              "      <th>attribute_25</th>\n",
              "      <th>attribute_26</th>\n",
              "      <th>attribute_27</th>\n",
              "      <th>attribute_28</th>\n",
              "      <th>attribute_29</th>\n",
              "      <th>attribute_30</th>\n",
              "      <th>attribute_31</th>\n",
              "      <th>attribute_32</th>\n",
              "      <th>attribute_33</th>\n",
              "      <th>attribute_34</th>\n",
              "      <th>attribute_35</th>\n",
              "      <th>attribute_36</th>\n",
              "      <th>attribute_37</th>\n",
              "      <th>attribute_38</th>\n",
              "      <th>attribute_39</th>\n",
              "      <th>attribute_40</th>\n",
              "      <th>attribute_41</th>\n",
              "      <th>attribute_42</th>\n",
              "      <th>attribute_43</th>\n",
              "      <th>attribute_44</th>\n",
              "      <th>attribute_45</th>\n",
              "      <th>attribute_46</th>\n",
              "      <th>attribute_47</th>\n",
              "      <th>attribute_48</th>\n",
              "      <th>attribute_49</th>\n",
              "      <th>attribute_50</th>\n",
              "      <th>attribute_51</th>\n",
              "      <th>attribute_52</th>\n",
              "      <th>attribute_53</th>\n",
              "      <th>attribute_54</th>\n",
              "      <th>attribute_55</th>\n",
              "      <th>attribute_56</th>\n",
              "      <th>attribute_57</th>\n",
              "      <th>attribute_58</th>\n",
              "      <th>attribute_59</th>\n",
              "      <th>attribute_60</th>\n",
              "    </tr>\n",
              "  </thead>\n",
              "  <tbody>\n",
              "    <tr>\n",
              "      <th>0</th>\n",
              "      <td>0.034283</td>\n",
              "      <td>0.067601</td>\n",
              "      <td>-0.540083</td>\n",
              "      <td>-1.216550</td>\n",
              "      <td>-1.170987</td>\n",
              "      <td>-0.701419</td>\n",
              "      <td>-0.516137</td>\n",
              "      <td>-0.268162</td>\n",
              "      <td>-0.688366</td>\n",
              "      <td>-0.999476</td>\n",
              "      <td>-1.452884</td>\n",
              "      <td>-0.924677</td>\n",
              "      <td>-0.671054</td>\n",
              "      <td>-0.604662</td>\n",
              "      <td>-0.310763</td>\n",
              "      <td>-0.702617</td>\n",
              "      <td>-0.645532</td>\n",
              "      <td>-0.649335</td>\n",
              "      <td>-0.729284</td>\n",
              "      <td>-0.317455</td>\n",
              "      <td>-0.299591</td>\n",
              "      <td>-0.008835</td>\n",
              "      <td>0.131029</td>\n",
              "      <td>0.311613</td>\n",
              "      <td>0.712183</td>\n",
              "      <td>0.849213</td>\n",
              "      <td>1.234418</td>\n",
              "      <td>0.990376</td>\n",
              "      <td>0.336450</td>\n",
              "      <td>0.242650</td>\n",
              "      <td>0.499052</td>\n",
              "      <td>0.119935</td>\n",
              "      <td>-0.673320</td>\n",
              "      <td>-1.005238</td>\n",
              "      <td>-0.880116</td>\n",
              "      <td>-0.472645</td>\n",
              "      <td>-0.376587</td>\n",
              "      <td>-0.094161</td>\n",
              "      <td>-0.227435</td>\n",
              "      <td>-0.676225</td>\n",
              "      <td>-0.813205</td>\n",
              "      <td>-0.203893</td>\n",
              "      <td>-0.267677</td>\n",
              "      <td>-0.296704</td>\n",
              "      <td>-0.355767</td>\n",
              "      <td>-0.682982</td>\n",
              "      <td>-0.169889</td>\n",
              "      <td>-0.020404</td>\n",
              "      <td>-0.357189</td>\n",
              "      <td>-0.867054</td>\n",
              "      <td>-0.652782</td>\n",
              "      <td>-0.663675</td>\n",
              "      <td>-0.450920</td>\n",
              "      <td>-0.007605</td>\n",
              "      <td>-0.567176</td>\n",
              "      <td>0.293379</td>\n",
              "      <td>-0.654754</td>\n",
              "      <td>-0.351269</td>\n",
              "      <td>-0.475797</td>\n",
              "      <td>0.409389</td>\n",
              "    </tr>\n",
              "    <tr>\n",
              "      <th>1</th>\n",
              "      <td>1.858457</td>\n",
              "      <td>0.744916</td>\n",
              "      <td>1.373396</td>\n",
              "      <td>-0.358238</td>\n",
              "      <td>-0.523457</td>\n",
              "      <td>-0.436807</td>\n",
              "      <td>-0.715491</td>\n",
              "      <td>-0.240968</td>\n",
              "      <td>0.468459</td>\n",
              "      <td>-0.183085</td>\n",
              "      <td>0.374547</td>\n",
              "      <td>1.164771</td>\n",
              "      <td>0.629917</td>\n",
              "      <td>-0.636518</td>\n",
              "      <td>-0.257037</td>\n",
              "      <td>0.016645</td>\n",
              "      <td>0.500725</td>\n",
              "      <td>0.756393</td>\n",
              "      <td>0.350793</td>\n",
              "      <td>-0.337814</td>\n",
              "      <td>-1.158652</td>\n",
              "      <td>-1.704743</td>\n",
              "      <td>-1.792821</td>\n",
              "      <td>-2.119814</td>\n",
              "      <td>-1.763306</td>\n",
              "      <td>-1.824993</td>\n",
              "      <td>-1.582754</td>\n",
              "      <td>-0.814761</td>\n",
              "      <td>0.300458</td>\n",
              "      <td>0.757940</td>\n",
              "      <td>1.346200</td>\n",
              "      <td>1.664721</td>\n",
              "      <td>1.237655</td>\n",
              "      <td>1.244888</td>\n",
              "      <td>1.375219</td>\n",
              "      <td>1.686245</td>\n",
              "      <td>2.300661</td>\n",
              "      <td>3.170289</td>\n",
              "      <td>2.803381</td>\n",
              "      <td>2.246552</td>\n",
              "      <td>2.196068</td>\n",
              "      <td>1.719033</td>\n",
              "      <td>1.492587</td>\n",
              "      <td>1.048330</td>\n",
              "      <td>-0.343992</td>\n",
              "      <td>-0.310525</td>\n",
              "      <td>0.067050</td>\n",
              "      <td>0.417722</td>\n",
              "      <td>0.143261</td>\n",
              "      <td>0.217290</td>\n",
              "      <td>-0.202379</td>\n",
              "      <td>0.072554</td>\n",
              "      <td>1.193419</td>\n",
              "      <td>-0.903566</td>\n",
              "      <td>-0.777689</td>\n",
              "      <td>-0.962169</td>\n",
              "      <td>-0.960487</td>\n",
              "      <td>1.190439</td>\n",
              "      <td>0.430963</td>\n",
              "      <td>0.258869</td>\n",
              "    </tr>\n",
              "    <tr>\n",
              "      <th>2</th>\n",
              "      <td>-0.413156</td>\n",
              "      <td>-0.874452</td>\n",
              "      <td>-0.317661</td>\n",
              "      <td>-0.726481</td>\n",
              "      <td>0.165531</td>\n",
              "      <td>0.824675</td>\n",
              "      <td>-0.099744</td>\n",
              "      <td>-0.858148</td>\n",
              "      <td>-0.399998</td>\n",
              "      <td>-0.534576</td>\n",
              "      <td>-1.206989</td>\n",
              "      <td>-1.597307</td>\n",
              "      <td>-1.022537</td>\n",
              "      <td>-0.021406</td>\n",
              "      <td>1.047592</td>\n",
              "      <td>1.663665</td>\n",
              "      <td>1.408736</td>\n",
              "      <td>1.217317</td>\n",
              "      <td>1.329867</td>\n",
              "      <td>1.193420</td>\n",
              "      <td>1.298597</td>\n",
              "      <td>1.248310</td>\n",
              "      <td>1.178522</td>\n",
              "      <td>1.341047</td>\n",
              "      <td>1.214272</td>\n",
              "      <td>1.009183</td>\n",
              "      <td>1.000330</td>\n",
              "      <td>0.258084</td>\n",
              "      <td>-0.726925</td>\n",
              "      <td>-1.127596</td>\n",
              "      <td>-0.410590</td>\n",
              "      <td>0.107458</td>\n",
              "      <td>-0.071446</td>\n",
              "      <td>-0.454020</td>\n",
              "      <td>-0.570032</td>\n",
              "      <td>-0.939609</td>\n",
              "      <td>-0.460671</td>\n",
              "      <td>-0.552751</td>\n",
              "      <td>-0.793482</td>\n",
              "      <td>-0.899058</td>\n",
              "      <td>-1.218376</td>\n",
              "      <td>-1.316296</td>\n",
              "      <td>-1.160146</td>\n",
              "      <td>-0.691140</td>\n",
              "      <td>-0.554093</td>\n",
              "      <td>-0.760258</td>\n",
              "      <td>-0.902746</td>\n",
              "      <td>-0.796152</td>\n",
              "      <td>-0.805106</td>\n",
              "      <td>-1.531405</td>\n",
              "      <td>0.202221</td>\n",
              "      <td>-0.063067</td>\n",
              "      <td>-0.325504</td>\n",
              "      <td>-0.572750</td>\n",
              "      <td>-0.679450</td>\n",
              "      <td>-0.317875</td>\n",
              "      <td>-0.510879</td>\n",
              "      <td>-0.365677</td>\n",
              "      <td>-0.122315</td>\n",
              "      <td>-0.211507</td>\n",
              "    </tr>\n",
              "    <tr>\n",
              "      <th>3</th>\n",
              "      <td>0.181790</td>\n",
              "      <td>-0.884766</td>\n",
              "      <td>-0.405976</td>\n",
              "      <td>0.173362</td>\n",
              "      <td>0.072745</td>\n",
              "      <td>-0.125597</td>\n",
              "      <td>-0.363406</td>\n",
              "      <td>-0.373390</td>\n",
              "      <td>-0.640584</td>\n",
              "      <td>0.054246</td>\n",
              "      <td>0.543161</td>\n",
              "      <td>0.661013</td>\n",
              "      <td>0.176234</td>\n",
              "      <td>-0.973614</td>\n",
              "      <td>-1.020131</td>\n",
              "      <td>-1.032105</td>\n",
              "      <td>-0.926566</td>\n",
              "      <td>-0.833340</td>\n",
              "      <td>-1.183992</td>\n",
              "      <td>-1.302128</td>\n",
              "      <td>-1.148293</td>\n",
              "      <td>-0.131912</td>\n",
              "      <td>0.729596</td>\n",
              "      <td>0.943510</td>\n",
              "      <td>1.281299</td>\n",
              "      <td>1.269187</td>\n",
              "      <td>1.039683</td>\n",
              "      <td>1.339393</td>\n",
              "      <td>1.141080</td>\n",
              "      <td>0.730304</td>\n",
              "      <td>1.223526</td>\n",
              "      <td>1.265470</td>\n",
              "      <td>0.549450</td>\n",
              "      <td>-0.828538</td>\n",
              "      <td>-1.167940</td>\n",
              "      <td>-0.959243</td>\n",
              "      <td>-1.059660</td>\n",
              "      <td>-1.047394</td>\n",
              "      <td>-0.708022</td>\n",
              "      <td>-1.542171</td>\n",
              "      <td>-0.807474</td>\n",
              "      <td>-1.171051</td>\n",
              "      <td>-0.952890</td>\n",
              "      <td>-0.375005</td>\n",
              "      <td>-0.677426</td>\n",
              "      <td>-1.101387</td>\n",
              "      <td>-0.501603</td>\n",
              "      <td>0.507231</td>\n",
              "      <td>0.334040</td>\n",
              "      <td>-0.210338</td>\n",
              "      <td>-0.843631</td>\n",
              "      <td>-0.702424</td>\n",
              "      <td>-0.158283</td>\n",
              "      <td>0.364563</td>\n",
              "      <td>-0.398765</td>\n",
              "      <td>-0.350915</td>\n",
              "      <td>-0.780644</td>\n",
              "      <td>-0.682664</td>\n",
              "      <td>-0.291371</td>\n",
              "      <td>0.033088</td>\n",
              "    </tr>\n",
              "    <tr>\n",
              "      <th>4</th>\n",
              "      <td>0.403051</td>\n",
              "      <td>0.153555</td>\n",
              "      <td>-0.343828</td>\n",
              "      <td>-0.576969</td>\n",
              "      <td>0.191196</td>\n",
              "      <td>0.513465</td>\n",
              "      <td>-0.088490</td>\n",
              "      <td>-0.793119</td>\n",
              "      <td>-1.374078</td>\n",
              "      <td>-1.183483</td>\n",
              "      <td>-1.157810</td>\n",
              "      <td>0.031317</td>\n",
              "      <td>-0.877524</td>\n",
              "      <td>-1.048910</td>\n",
              "      <td>-1.025836</td>\n",
              "      <td>-0.975586</td>\n",
              "      <td>-1.099538</td>\n",
              "      <td>-1.250176</td>\n",
              "      <td>-1.285769</td>\n",
              "      <td>-1.795052</td>\n",
              "      <td>-1.627630</td>\n",
              "      <td>-2.421627</td>\n",
              "      <td>-1.663861</td>\n",
              "      <td>-1.761406</td>\n",
              "      <td>-2.686063</td>\n",
              "      <td>-2.175546</td>\n",
              "      <td>-0.865073</td>\n",
              "      <td>0.131535</td>\n",
              "      <td>0.234472</td>\n",
              "      <td>0.298369</td>\n",
              "      <td>0.932810</td>\n",
              "      <td>0.459575</td>\n",
              "      <td>1.182052</td>\n",
              "      <td>2.005991</td>\n",
              "      <td>2.186749</td>\n",
              "      <td>2.239056</td>\n",
              "      <td>1.780555</td>\n",
              "      <td>1.618582</td>\n",
              "      <td>1.636097</td>\n",
              "      <td>2.054182</td>\n",
              "      <td>1.755938</td>\n",
              "      <td>1.295830</td>\n",
              "      <td>0.917346</td>\n",
              "      <td>0.052361</td>\n",
              "      <td>-0.325399</td>\n",
              "      <td>-0.599440</td>\n",
              "      <td>-0.486175</td>\n",
              "      <td>-0.282651</td>\n",
              "      <td>0.110082</td>\n",
              "      <td>-0.240883</td>\n",
              "      <td>-0.790193</td>\n",
              "      <td>-0.411807</td>\n",
              "      <td>0.775367</td>\n",
              "      <td>0.709164</td>\n",
              "      <td>-0.146149</td>\n",
              "      <td>-0.235273</td>\n",
              "      <td>1.035773</td>\n",
              "      <td>-0.178367</td>\n",
              "      <td>-0.045470</td>\n",
              "      <td>0.051904</td>\n",
              "    </tr>\n",
              "  </tbody>\n",
              "</table>\n",
              "</div>\n",
              "      <button class=\"colab-df-convert\" onclick=\"convertToInteractive('df-0cc31175-3830-4fa3-ab44-b86789c84232')\"\n",
              "              title=\"Convert this dataframe to an interactive table.\"\n",
              "              style=\"display:none;\">\n",
              "        \n",
              "  <svg xmlns=\"http://www.w3.org/2000/svg\" height=\"24px\"viewBox=\"0 0 24 24\"\n",
              "       width=\"24px\">\n",
              "    <path d=\"M0 0h24v24H0V0z\" fill=\"none\"/>\n",
              "    <path d=\"M18.56 5.44l.94 2.06.94-2.06 2.06-.94-2.06-.94-.94-2.06-.94 2.06-2.06.94zm-11 1L8.5 8.5l.94-2.06 2.06-.94-2.06-.94L8.5 2.5l-.94 2.06-2.06.94zm10 10l.94 2.06.94-2.06 2.06-.94-2.06-.94-.94-2.06-.94 2.06-2.06.94z\"/><path d=\"M17.41 7.96l-1.37-1.37c-.4-.4-.92-.59-1.43-.59-.52 0-1.04.2-1.43.59L10.3 9.45l-7.72 7.72c-.78.78-.78 2.05 0 2.83L4 21.41c.39.39.9.59 1.41.59.51 0 1.02-.2 1.41-.59l7.78-7.78 2.81-2.81c.8-.78.8-2.07 0-2.86zM5.41 20L4 18.59l7.72-7.72 1.47 1.35L5.41 20z\"/>\n",
              "  </svg>\n",
              "      </button>\n",
              "      \n",
              "  <style>\n",
              "    .colab-df-container {\n",
              "      display:flex;\n",
              "      flex-wrap:wrap;\n",
              "      gap: 12px;\n",
              "    }\n",
              "\n",
              "    .colab-df-convert {\n",
              "      background-color: #E8F0FE;\n",
              "      border: none;\n",
              "      border-radius: 50%;\n",
              "      cursor: pointer;\n",
              "      display: none;\n",
              "      fill: #1967D2;\n",
              "      height: 32px;\n",
              "      padding: 0 0 0 0;\n",
              "      width: 32px;\n",
              "    }\n",
              "\n",
              "    .colab-df-convert:hover {\n",
              "      background-color: #E2EBFA;\n",
              "      box-shadow: 0px 1px 2px rgba(60, 64, 67, 0.3), 0px 1px 3px 1px rgba(60, 64, 67, 0.15);\n",
              "      fill: #174EA6;\n",
              "    }\n",
              "\n",
              "    [theme=dark] .colab-df-convert {\n",
              "      background-color: #3B4455;\n",
              "      fill: #D2E3FC;\n",
              "    }\n",
              "\n",
              "    [theme=dark] .colab-df-convert:hover {\n",
              "      background-color: #434B5C;\n",
              "      box-shadow: 0px 1px 3px 1px rgba(0, 0, 0, 0.15);\n",
              "      filter: drop-shadow(0px 1px 2px rgba(0, 0, 0, 0.3));\n",
              "      fill: #FFFFFF;\n",
              "    }\n",
              "  </style>\n",
              "\n",
              "      <script>\n",
              "        const buttonEl =\n",
              "          document.querySelector('#df-0cc31175-3830-4fa3-ab44-b86789c84232 button.colab-df-convert');\n",
              "        buttonEl.style.display =\n",
              "          google.colab.kernel.accessAllowed ? 'block' : 'none';\n",
              "\n",
              "        async function convertToInteractive(key) {\n",
              "          const element = document.querySelector('#df-0cc31175-3830-4fa3-ab44-b86789c84232');\n",
              "          const dataTable =\n",
              "            await google.colab.kernel.invokeFunction('convertToInteractive',\n",
              "                                                     [key], {});\n",
              "          if (!dataTable) return;\n",
              "\n",
              "          const docLinkHtml = 'Like what you see? Visit the ' +\n",
              "            '<a target=\"_blank\" href=https://colab.research.google.com/notebooks/data_table.ipynb>data table notebook</a>'\n",
              "            + ' to learn more about interactive tables.';\n",
              "          element.innerHTML = '';\n",
              "          dataTable['output_type'] = 'display_data';\n",
              "          await google.colab.output.renderOutput(dataTable, element);\n",
              "          const docLink = document.createElement('div');\n",
              "          docLink.innerHTML = docLinkHtml;\n",
              "          element.appendChild(docLink);\n",
              "        }\n",
              "      </script>\n",
              "    </div>\n",
              "  </div>\n",
              "  "
            ],
            "text/plain": [
              "   attribute_1  attribute_2  ...  attribute_59  attribute_60\n",
              "0     0.034283     0.067601  ...     -0.475797      0.409389\n",
              "1     1.858457     0.744916  ...      0.430963      0.258869\n",
              "2    -0.413156    -0.874452  ...     -0.122315     -0.211507\n",
              "3     0.181790    -0.884766  ...     -0.291371      0.033088\n",
              "4     0.403051     0.153555  ...     -0.045470      0.051904\n",
              "\n",
              "[5 rows x 60 columns]"
            ]
          },
          "metadata": {},
          "execution_count": 79
        }
      ]
    },
    {
      "cell_type": "markdown",
      "source": [
        "And we can now train a LASSO model, simply by changing the penalty argument in the LogisticRegression. Moreover, we now have a hyperparameter, which means that we define a grid with a large range of possible hyperparameter values. As model results need to be compared for different settings of the hyperparameter, we now need to introduce cross-validation as well, to generate feedback from our training data while not using the test data.\n",
        "\n",
        "Please note how the hyperparameter values are stored in a dictionary under the name 'C', which is because 'C' is the argument containing the penalty (inverse strenght of regularization) in LogisticRegression (always make sure to refer to the documentation when working with sklearn models: https://scikit-learn.org/stable/modules/generated/sklearn.linear_model.LogisticRegression.html)\n"
      ],
      "metadata": {
        "id": "wrTm0umZxk9I"
      }
    },
    {
      "cell_type": "code",
      "metadata": {
        "id": "OzVH2GuFfr3g"
      },
      "source": [
        "logL1_clf = LogisticRegression(penalty='l1', solver='liblinear')\n",
        "cv = RepeatedKFold(n_splits=5, n_repeats=3, random_state=42)\n",
        "lasso_alphas = np.linspace(0.1, 20, 200)\n",
        "grid = dict()\n",
        "grid['C'] = lasso_alphas\n",
        "gscv = GridSearchCV(logL1_clf, grid, scoring='accuracy', cv = cv, n_jobs=-1)\n",
        "results = gscv.fit(X_train_prep, y_train)"
      ],
      "execution_count": 80,
      "outputs": []
    },
    {
      "cell_type": "markdown",
      "source": [
        "We now have 200 model outcomes. To find out what the settings are of the best model, we simply use best_estimator_"
      ],
      "metadata": {
        "id": "qaUJe0UNzyYR"
      }
    },
    {
      "cell_type": "code",
      "metadata": {
        "colab": {
          "base_uri": "https://localhost:8080/"
        },
        "id": "iEUYrCtooEQV",
        "outputId": "30706d26-3384-4c20-9ce9-60c508027a0d"
      },
      "source": [
        "results.best_estimator_"
      ],
      "execution_count": 81,
      "outputs": [
        {
          "output_type": "execute_result",
          "data": {
            "text/plain": [
              "LogisticRegression(C=1.7, penalty='l1', solver='liblinear')"
            ]
          },
          "metadata": {},
          "execution_count": 81
        }
      ]
    },
    {
      "cell_type": "markdown",
      "source": [
        "We can plot model results for the entire range of hyperparameter values considered."
      ],
      "metadata": {
        "id": "rmA1gHEi0sr0"
      }
    },
    {
      "cell_type": "code",
      "metadata": {
        "colab": {
          "base_uri": "https://localhost:8080/",
          "height": 283
        },
        "id": "irMTtZSJrqZw",
        "outputId": "36e27172-cc36-448f-86cb-3296ca84d99b"
      },
      "source": [
        "# plot accuracy for different values of C\n",
        "import matplotlib.pyplot as plt\n",
        "plt.plot(lasso_alphas, results.cv_results_ ['mean_test_score'])"
      ],
      "execution_count": 82,
      "outputs": [
        {
          "output_type": "execute_result",
          "data": {
            "text/plain": [
              "[<matplotlib.lines.Line2D at 0x7ff9f20155d0>]"
            ]
          },
          "metadata": {},
          "execution_count": 82
        },
        {
          "output_type": "display_data",
          "data": {
            "image/png": "[encoded data removed]",
            "text/plain": [
              "<Figure size 432x288 with 1 Axes>"
            ]
          },
          "metadata": {
            "needs_background": "light"
          }
        }
      ]
    },
    {
      "cell_type": "markdown",
      "source": [
        "One of the defining features of the LASSO is that it pushes out features that do not contribute enough to the prediction of the outcome Y. We can see which features were pushed out of the model by using the code below."
      ],
      "metadata": {
        "id": "ZeFhEy1D03J4"
      }
    },
    {
      "cell_type": "code",
      "metadata": {
        "colab": {
          "base_uri": "https://localhost:8080/"
        },
        "id": "8duVyeV1mEUL",
        "outputId": "0f3ba183-e72f-4717-f0e3-b58d085fb36f"
      },
      "source": [
        "# get coefficients\n",
        "results.best_estimator_.coef_"
      ],
      "execution_count": 83,
      "outputs": [
        {
          "output_type": "execute_result",
          "data": {
            "text/plain": [
              "array([[-0.10684101,  0.        ,  0.36576579, -0.60456154,  0.        ,\n",
              "         0.45273564,  0.        ,  1.84873431, -1.5060859 , -0.13204619,\n",
              "        -0.49723919, -1.13442938, -0.02246386,  0.        ,  0.        ,\n",
              "         0.        ,  1.83043525, -0.96597467,  0.        , -0.34990475,\n",
              "         0.        , -0.9450799 ,  0.        , -0.62065038,  0.        ,\n",
              "         0.54471692,  0.        , -0.03237877, -0.56781719, -0.5657299 ,\n",
              "         2.02766672, -1.03550252,  0.        ,  0.56358841, -0.27003689,\n",
              "         0.        ,  1.11700252,  0.        , -0.83034573,  0.40645625,\n",
              "         0.        ,  0.06172128, -0.22389613, -0.19437113, -0.37414539,\n",
              "         0.        ,  0.        , -0.90088226, -1.17803099,  0.59565913,\n",
              "        -0.39705303, -0.56993645, -0.3557674 , -0.73119247,  0.64843256,\n",
              "        -0.48145581,  0.24432691, -0.4834518 ,  0.        ,  0.07291729]])"
            ]
          },
          "metadata": {},
          "execution_count": 83
        }
      ]
    },
    {
      "cell_type": "markdown",
      "source": [
        "### Question 5\n",
        "How many features were pushed out of the model by LASSO's built-in feature selection?"
      ],
      "metadata": {
        "id": "iiO9FLWv1RUH"
      }
    },
    {
      "cell_type": "code",
      "source": [
        "# answer Q5\n",
        "(results.best_estimator_.coef_==0).sum()"
      ],
      "metadata": {
        "colab": {
          "base_uri": "https://localhost:8080/"
        },
        "id": "FEQ5X38K1Yjt",
        "outputId": "68c127bf-0865-4d5b-a5f2-c7f351c0de00"
      },
      "execution_count": 84,
      "outputs": [
        {
          "output_type": "execute_result",
          "data": {
            "text/plain": [
              "18"
            ]
          },
          "metadata": {},
          "execution_count": 84
        }
      ]
    },
    {
      "cell_type": "markdown",
      "source": [
        "Finally, we can check the performance of our best LASSO model on the test set. This requires us to prepare the test features exactly like we prepared our training features. "
      ],
      "metadata": {
        "id": "q0PY0C6K1hLX"
      }
    },
    {
      "cell_type": "code",
      "source": [
        "X_test_prep = sc.transform(X_test)\n",
        "cm = confusion_matrix(y_test, results.best_estimator_.predict(X_test_prep), labels=results.classes_)\n",
        "disp = ConfusionMatrixDisplay(confusion_matrix=cm, display_labels=results.classes_)\n",
        "disp.plot()"
      ],
      "metadata": {
        "colab": {
          "base_uri": "https://localhost:8080/",
          "height": 356
        },
        "id": "SNok3GWnDQG-",
        "outputId": "f7be04d6-f555-44c2-9c6a-c62da9e3dc9d"
      },
      "execution_count": 85,
      "outputs": [
        {
          "output_type": "stream",
          "name": "stderr",
          "text": [
            "/usr/local/lib/python3.7/dist-packages/sklearn/base.py:451: UserWarning: X does not have valid feature names, but LogisticRegression was fitted with feature names\n",
            "  \"X does not have valid feature names, but\"\n"
          ]
        },
        {
          "output_type": "execute_result",
          "data": {
            "text/plain": [
              "<sklearn.metrics._plot.confusion_matrix.ConfusionMatrixDisplay at 0x7ff9f20f0b10>"
            ]
          },
          "metadata": {},
          "execution_count": 85
        },
        {
          "output_type": "display_data",
          "data": {
            "image/png": "[encoded data removed]",
            "text/plain": [
              "<Figure size 432x288 with 2 Axes>"
            ]
          },
          "metadata": {
            "needs_background": "light"
          }
        }
      ]
    },
    {
      "cell_type": "markdown",
      "source": [
        "### Question 6\n",
        "- Why do we use sc.transform instead of sc.fit_transform to prepare the test data?\n",
        "- What should be added to the code to get rid of the UserWarning that is shown with the confusion matrix above?"
      ],
      "metadata": {
        "id": "2vPLVdkb10Hs"
      }
    },
    {
      "cell_type": "code",
      "source": [
        "# answer Q6\n",
        "X_test_prep = sc.transform(X_test)\n",
        "X_test_prep = pd.DataFrame(data = X_test_prep, columns = X_test.columns)\n",
        "cm = confusion_matrix(y_test, results.best_estimator_.predict(X_test_prep), labels=results.classes_)\n",
        "disp = ConfusionMatrixDisplay(confusion_matrix=cm, display_labels=results.classes_)\n",
        "disp.plot()"
      ],
      "metadata": {
        "colab": {
          "base_uri": "https://localhost:8080/",
          "height": 301
        },
        "id": "Nz0Y-u1Y8jHi",
        "outputId": "e3ccc111-c5a6-4583-e5fb-1c4b29e92356"
      },
      "execution_count": 86,
      "outputs": [
        {
          "output_type": "execute_result",
          "data": {
            "text/plain": [
              "<sklearn.metrics._plot.confusion_matrix.ConfusionMatrixDisplay at 0x7ff9f1f79cd0>"
            ]
          },
          "metadata": {},
          "execution_count": 86
        },
        {
          "output_type": "display_data",
          "data": {
            "image/png": "[encoded data removed]",
            "text/plain": [
              "<Figure size 432x288 with 2 Axes>"
            ]
          },
          "metadata": {
            "needs_background": "light"
          }
        }
      ]
    },
    {
      "cell_type": "code",
      "metadata": {
        "colab": {
          "base_uri": "https://localhost:8080/"
        },
        "id": "JjpDwAj_45Ay",
        "outputId": "9def8aaa-5544-4c15-fa82-314b36e72769"
      },
      "source": [
        "accuracy_score(results.predict(X_test_prep), y_test)"
      ],
      "execution_count": 87,
      "outputs": [
        {
          "output_type": "execute_result",
          "data": {
            "text/plain": [
              "0.7142857142857143"
            ]
          },
          "metadata": {},
          "execution_count": 87
        }
      ]
    },
    {
      "cell_type": "markdown",
      "source": [
        "### Bonus Question 7\n",
        "Train and evaluate a Random Forest model"
      ],
      "metadata": {
        "id": "cfmQRaoY3Pes"
      }
    },
    {
      "cell_type": "code",
      "source": [
        "# Answer Q7\n",
        "from sklearn.ensemble import RandomForestClassifier\n",
        "\n",
        "RF_clf = RandomForestClassifier()\n",
        "cv = RepeatedKFold(n_splits=10, n_repeats=3, random_state=1)\n",
        "max_feat = np.linspace(1, len(X_train.columns), len(X_train.columns)).astype(int)\n",
        "grid = dict()\n",
        "grid['max_features'] = max_feat\n",
        "gscv_rf = GridSearchCV(RF_clf, grid, scoring='accuracy', cv = cv, n_jobs=-1)\n",
        "results_rf = gscv_rf.fit(X_train, y_train)"
      ],
      "metadata": {
        "id": "u1hNVOrc8-vP"
      },
      "execution_count": 88,
      "outputs": []
    },
    {
      "cell_type": "code",
      "source": [
        "# Answer Q7\n",
        "cm = confusion_matrix(y_test, results_rf.best_estimator_.predict(X_test), labels=results_rf.classes_)\n",
        "disp = ConfusionMatrixDisplay(confusion_matrix=cm, display_labels=results_rf.classes_)\n",
        "disp.plot()"
      ],
      "metadata": {
        "colab": {
          "base_uri": "https://localhost:8080/",
          "height": 297
        },
        "id": "yo6J8c-e-5oC",
        "outputId": "bc2557c2-8c6a-48bc-914b-a2d7a6de71e0"
      },
      "execution_count": 89,
      "outputs": [
        {
          "output_type": "execute_result",
          "data": {
            "text/plain": [
              "<sklearn.metrics._plot.confusion_matrix.ConfusionMatrixDisplay at 0x7ff9f13ba110>"
            ]
          },
          "metadata": {},
          "execution_count": 89
        },
        {
          "output_type": "display_data",
          "data": {
            "image/png": "[encoded data removed]",
            "text/plain": [
              "<Figure size 432x288 with 2 Axes>"
            ]
          },
          "metadata": {
            "needs_background": "light"
          }
        }
      ]
    },
    {
      "cell_type": "code",
      "source": [
        "# Answer Q7\n",
        "accuracy_score(results_rf.predict(X_test), y_test)"
      ],
      "metadata": {
        "colab": {
          "base_uri": "https://localhost:8080/"
        },
        "id": "MsEhevly_AHk",
        "outputId": "9e653574-3bd8-48e8-b358-6bbf940b1dc7"
      },
      "execution_count": 90,
      "outputs": [
        {
          "output_type": "execute_result",
          "data": {
            "text/plain": [
              "0.7777777777777778"
            ]
          },
          "metadata": {},
          "execution_count": 90
        }
      ]
    }
  ]
}